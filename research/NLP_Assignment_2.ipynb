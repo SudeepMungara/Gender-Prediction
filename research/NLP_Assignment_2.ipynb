{
 "cells": [
  {
   "cell_type": "code",
   "execution_count": 2,
   "metadata": {
    "id": "iskF5aZ6Lkuy"
   },
   "outputs": [],
   "source": [
    "import os\n",
    "import re\n",
    "import pickle\n",
    "import pandas as pd\n",
    "import numpy as np\n",
    "import nltk\n",
    "from nltk.util import ngrams\n",
    "from matplotlib import pyplot as plt\n",
    "from sklearn.utils import shuffle\n",
    "from sklearn.tree import export_text\n",
    "from sklearn.tree import plot_tree\n",
    "from sklearn.feature_extraction.text import CountVectorizer,TfidfVectorizer\n",
    "from sklearn.model_selection import train_test_split,GridSearchCV\n",
    "from sklearn.linear_model import LogisticRegression\n",
    "from sklearn.tree import DecisionTreeClassifier\n",
    "from sklearn.ensemble import RandomForestClassifier\n",
    "from sklearn.metrics import accuracy_score,classification_report\n",
    "pd.set_option('display.max_columns', None)\n",
    "pd.set_option('display.max_rows', None)"
   ]
  },
  {
   "cell_type": "markdown",
   "metadata": {
    "id": "R8uLuWSJOVD_"
   },
   "source": [
    "# Task 1 - Data Collection"
   ]
  },
  {
   "cell_type": "code",
   "execution_count": 4,
   "metadata": {
    "id": "0jFaVSVhL_VP"
   },
   "outputs": [],
   "source": [
    "with open('/dataset/Indian-Name.csv', 'r', encoding='utf-8', errors='ignore') as file:\n",
    "    data = pd.read_csv(file)"
   ]
  },
  {
   "cell_type": "code",
   "execution_count": 5,
   "metadata": {
    "id": "6dNAnmD7MFQ5"
   },
   "outputs": [],
   "source": [
    "data = data[['Name','Target']]"
   ]
  },
  {
   "cell_type": "code",
   "execution_count": 6,
   "metadata": {
    "colab": {
     "base_uri": "https://localhost:8080/"
    },
    "id": "bB8SYED3UD1r",
    "outputId": "8e14cd02-c93f-4a41-981d-2d9bfdf7bc20"
   },
   "outputs": [
    {
     "data": {
      "text/plain": [
       "Name      object\n",
       "Target     int64\n",
       "dtype: object"
      ]
     },
     "execution_count": 6,
     "metadata": {},
     "output_type": "execute_result"
    }
   ],
   "source": [
    "data.dtypes"
   ]
  },
  {
   "cell_type": "code",
   "execution_count": 7,
   "metadata": {
    "colab": {
     "base_uri": "https://localhost:8080/"
    },
    "id": "_MM6IgYjlP0r",
    "outputId": "5155b3fe-79c5-4fa2-8a2f-1076f007e393"
   },
   "outputs": [
    {
     "data": {
      "text/plain": [
       "(1299, 2)"
      ]
     },
     "execution_count": 7,
     "metadata": {},
     "output_type": "execute_result"
    }
   ],
   "source": [
    "data.shape"
   ]
  },
  {
   "cell_type": "code",
   "execution_count": 8,
   "metadata": {
    "colab": {
     "base_uri": "https://localhost:8080/",
     "height": 407
    },
    "id": "2QrCTwp8NCvX",
    "outputId": "c5a3c3b8-09f4-4c85-af4f-7ee7e1e343e2"
   },
   "outputs": [
    {
     "data": {
      "image/png": "[encoded data removed]",
      "text/plain": [
       "<Figure size 700x400 with 1 Axes>"
      ]
     },
     "metadata": {},
     "output_type": "display_data"
    }
   ],
   "source": [
    "fig, axs = plt.subplots(1, 1,\n",
    "                        figsize =(7, 4),\n",
    "                        tight_layout = True)\n",
    "axs.hist(data['Target'])\n",
    "plt.show()"
   ]
  },
  {
   "cell_type": "markdown",
   "metadata": {
    "id": "94emIYtMOal-"
   },
   "source": [
    "# Task 2 - Data Preprocessing\n",
    "\n",
    "\n",
    "*   Preprocess the dataset to ensure consistency and remove any\n",
    "unnecessary characters or noise.\n",
    "*   Tokenize the names into individual letters or n-grams (character\n",
    "sequences) for feature extraction.\n",
    "*   Shuffle the dataset to randomize the order of names.\n",
    "\n"
   ]
  },
  {
   "cell_type": "code",
   "execution_count": 9,
   "metadata": {
    "id": "krNLYWT-PAai"
   },
   "outputs": [],
   "source": [
    "data['Name'] = data['Name'].str.lower()\n",
    "regex = re.compile('[^a-zA-Z]')\n",
    "data['Name'] = data['Name'].apply(lambda x: regex.sub('',x))"
   ]
  },
  {
   "cell_type": "code",
   "execution_count": 10,
   "metadata": {
    "colab": {
     "base_uri": "https://localhost:8080/"
    },
    "id": "mvt3QEiHrSOU",
    "outputId": "8ead2769-2ecd-45a0-faf2-93106282f828"
   },
   "outputs": [
    {
     "data": {
      "text/plain": [
       "220"
      ]
     },
     "execution_count": 10,
     "metadata": {},
     "output_type": "execute_result"
    }
   ],
   "source": [
    "data.duplicated(keep=False).sum()"
   ]
  },
  {
   "cell_type": "code",
   "execution_count": 11,
   "metadata": {
    "id": "cMbKg4rApFwt"
   },
   "outputs": [],
   "source": [
    "data = data.drop_duplicates(keep='last')"
   ]
  },
  {
   "cell_type": "code",
   "execution_count": 12,
   "metadata": {
    "colab": {
     "base_uri": "https://localhost:8080/"
    },
    "id": "mF2-u1RPpUWu",
    "outputId": "a3af20fd-fc01-4694-b466-395017575e59"
   },
   "outputs": [
    {
     "data": {
      "text/plain": [
       "0"
      ]
     },
     "execution_count": 12,
     "metadata": {},
     "output_type": "execute_result"
    }
   ],
   "source": [
    "data['Name'].isna().sum()"
   ]
  },
  {
   "cell_type": "code",
   "execution_count": 13,
   "metadata": {
    "colab": {
     "base_uri": "https://localhost:8080/"
    },
    "id": "tqADDhjZpVRk",
    "outputId": "f61071e1-b54f-4767-fe1d-96f1d0a5dcc4"
   },
   "outputs": [
    {
     "data": {
      "text/plain": [
       "0"
      ]
     },
     "execution_count": 13,
     "metadata": {},
     "output_type": "execute_result"
    }
   ],
   "source": [
    "data['Target'].isna().sum()"
   ]
  },
  {
   "cell_type": "code",
   "execution_count": 14,
   "metadata": {
    "colab": {
     "base_uri": "https://localhost:8080/"
    },
    "id": "PwNPizC5phNr",
    "outputId": "4b5bebf8-bd26-4542-ecd6-d0d31496315e"
   },
   "outputs": [
    {
     "data": {
      "text/plain": [
       "(1183, 2)"
      ]
     },
     "execution_count": 14,
     "metadata": {},
     "output_type": "execute_result"
    }
   ],
   "source": [
    "data.shape"
   ]
  },
  {
   "cell_type": "code",
   "execution_count": 15,
   "metadata": {
    "colab": {
     "base_uri": "https://localhost:8080/",
     "height": 407
    },
    "id": "jSnghH6dpkBF",
    "outputId": "0a2e1982-f2f6-43a3-d278-738b1f034fc6"
   },
   "outputs": [
    {
     "data": {
      "image/png": "[encoded data removed]",
      "text/plain": [
       "<Figure size 700x400 with 1 Axes>"
      ]
     },
     "metadata": {},
     "output_type": "display_data"
    }
   ],
   "source": [
    "fig, axs = plt.subplots(1, 1,\n",
    "                        figsize =(7, 4),\n",
    "                        tight_layout = True)\n",
    "axs.hist(data['Target'])\n",
    "plt.show()"
   ]
  },
  {
   "cell_type": "markdown",
   "metadata": {
    "id": "k-glKIsjEife"
   },
   "source": [
    "# Task 3: Feature Extraction\n",
    "\n",
    "*   Extract features from the preprocessed names. You can use techniques\n",
    "like character n-grams (e.g., bi-grams or tri-grams) as features.\n",
    "*   Create a feature matrix where each row represents a name, and each\n",
    "column represents a feature.\n",
    "\n"
   ]
  },
  {
   "cell_type": "code",
   "execution_count": 16,
   "metadata": {
    "id": "4olukJPIV_HS"
   },
   "outputs": [],
   "source": [
    "ngram_range = (2, 3)\n",
    "vectorizer = CountVectorizer(analyzer='char', ngram_range=ngram_range)\n",
    "# vectorizer = TfidfVectorizer(analyzer='char', ngram_range=ngram_range)\n",
    "X = vectorizer.fit_transform(data['Name'])"
   ]
  },
  {
   "cell_type": "code",
   "execution_count": 17,
   "metadata": {},
   "outputs": [],
   "source": [
    "filename = '/pickle/train_data_vector.pkl'\n",
    "pickle.dump(vectorizer,open(filename,'wb'))"
   ]
  },
  {
   "cell_type": "code",
   "execution_count": 18,
   "metadata": {
    "id": "J3OVV2Z3Kpz3"
   },
   "outputs": [],
   "source": [
    "feature_matrix = pd.DataFrame(X.toarray(), columns=vectorizer.get_feature_names_out())"
   ]
  },
  {
   "cell_type": "code",
   "execution_count": 19,
   "metadata": {
    "colab": {
     "base_uri": "https://localhost:8080/"
    },
    "id": "Ut3tIkato7ux",
    "outputId": "ae3acc44-e787-4d13-f2a0-08606dc0e949"
   },
   "outputs": [
    {
     "data": {
      "text/plain": [
       "(1183, 1632)"
      ]
     },
     "execution_count": 19,
     "metadata": {},
     "output_type": "execute_result"
    }
   ],
   "source": [
    "feature_matrix.shape"
   ]
  },
  {
   "cell_type": "code",
   "execution_count": 20,
   "metadata": {
    "id": "1YNvfdussZ1t"
   },
   "outputs": [],
   "source": [
    "target_column = data['Target']"
   ]
  },
  {
   "cell_type": "code",
   "execution_count": 21,
   "metadata": {
    "id": "mcbnvabls9kz"
   },
   "outputs": [],
   "source": [
    "target_column = target_column.reset_index(drop=True)\n",
    "feature_matrix = feature_matrix.reset_index(drop=True)"
   ]
  },
  {
   "cell_type": "code",
   "execution_count": 22,
   "metadata": {
    "id": "p9v8ajLhLwSg"
   },
   "outputs": [],
   "source": [
    "feature_matrix['Target'] = target_column"
   ]
  },
  {
   "cell_type": "markdown",
   "metadata": {
    "id": "qlHIvYMEE6yA"
   },
   "source": [
    "# Task 4: Model Training\n",
    "\n",
    "*   Choose a machine learning algorithm (e.g., logistic regression,\n",
    "decision tree, or a simple neural network) and train it on the feature\n",
    "matrix and corresponding gender labels from the dataset.\n",
    "*   Split the dataset into a training set and a testing set to evaluate\n",
    "the model's performance.\n",
    "\n"
   ]
  },
  {
   "cell_type": "code",
   "execution_count": 23,
   "metadata": {
    "id": "pQYx_HoLZVb7"
   },
   "outputs": [],
   "source": [
    "X_train, X_test, y_train, y_test = train_test_split(\n",
    "    feature_matrix.drop(columns=['Target']),\n",
    "    feature_matrix['Target'],\n",
    "    test_size=0.2,\n",
    "    random_state=42,\n",
    "    shuffle = True\n",
    ")"
   ]
  },
  {
   "cell_type": "code",
   "execution_count": 24,
   "metadata": {
    "colab": {
     "base_uri": "https://localhost:8080/",
     "height": 74
    },
    "id": "2_4M6JiZbmXT",
    "outputId": "cd54782e-7325-41bc-bb3d-09dd2f3ab94d"
   },
   "outputs": [
    {
     "data": {
      "text/html": [
       "<style>#sk-container-id-1 {color: black;}#sk-container-id-1 pre{padding: 0;}#sk-container-id-1 div.sk-toggleable {background-color: white;}#sk-container-id-1 label.sk-toggleable__label {cursor: pointer;display: block;width: 100%;margin-bottom: 0;padding: 0.3em;box-sizing: border-box;text-align: center;}#sk-container-id-1 label.sk-toggleable__label-arrow:before {content: \"▸\";float: left;margin-right: 0.25em;color: #696969;}#sk-container-id-1 label.sk-toggleable__label-arrow:hover:before {color: black;}#sk-container-id-1 div.sk-estimator:hover label.sk-toggleable__label-arrow:before {color: black;}#sk-container-id-1 div.sk-toggleable__content {max-height: 0;max-width: 0;overflow: hidden;text-align: left;background-color: #f0f8ff;}#sk-container-id-1 div.sk-toggleable__content pre {margin: 0.2em;color: black;border-radius: 0.25em;background-color: #f0f8ff;}#sk-container-id-1 input.sk-toggleable__control:checked~div.sk-toggleable__content {max-height: 200px;max-width: 100%;overflow: auto;}#sk-container-id-1 input.sk-toggleable__control:checked~label.sk-toggleable__label-arrow:before {content: \"▾\";}#sk-container-id-1 div.sk-estimator input.sk-toggleable__control:checked~label.sk-toggleable__label {background-color: #d4ebff;}#sk-container-id-1 div.sk-label input.sk-toggleable__control:checked~label.sk-toggleable__label {background-color: #d4ebff;}#sk-container-id-1 input.sk-hidden--visually {border: 0;clip: rect(1px 1px 1px 1px);clip: rect(1px, 1px, 1px, 1px);height: 1px;margin: -1px;overflow: hidden;padding: 0;position: absolute;width: 1px;}#sk-container-id-1 div.sk-estimator {font-family: monospace;background-color: #f0f8ff;border: 1px dotted black;border-radius: 0.25em;box-sizing: border-box;margin-bottom: 0.5em;}#sk-container-id-1 div.sk-estimator:hover {background-color: #d4ebff;}#sk-container-id-1 div.sk-parallel-item::after {content: \"\";width: 100%;border-bottom: 1px solid gray;flex-grow: 1;}#sk-container-id-1 div.sk-label:hover label.sk-toggleable__label {background-color: #d4ebff;}#sk-container-id-1 div.sk-serial::before {content: \"\";position: absolute;border-left: 1px solid gray;box-sizing: border-box;top: 0;bottom: 0;left: 50%;z-index: 0;}#sk-container-id-1 div.sk-serial {display: flex;flex-direction: column;align-items: center;background-color: white;padding-right: 0.2em;padding-left: 0.2em;position: relative;}#sk-container-id-1 div.sk-item {position: relative;z-index: 1;}#sk-container-id-1 div.sk-parallel {display: flex;align-items: stretch;justify-content: center;background-color: white;position: relative;}#sk-container-id-1 div.sk-item::before, #sk-container-id-1 div.sk-parallel-item::before {content: \"\";position: absolute;border-left: 1px solid gray;box-sizing: border-box;top: 0;bottom: 0;left: 50%;z-index: -1;}#sk-container-id-1 div.sk-parallel-item {display: flex;flex-direction: column;z-index: 1;position: relative;background-color: white;}#sk-container-id-1 div.sk-parallel-item:first-child::after {align-self: flex-end;width: 50%;}#sk-container-id-1 div.sk-parallel-item:last-child::after {align-self: flex-start;width: 50%;}#sk-container-id-1 div.sk-parallel-item:only-child::after {width: 0;}#sk-container-id-1 div.sk-dashed-wrapped {border: 1px dashed gray;margin: 0 0.4em 0.5em 0.4em;box-sizing: border-box;padding-bottom: 0.4em;background-color: white;}#sk-container-id-1 div.sk-label label {font-family: monospace;font-weight: bold;display: inline-block;line-height: 1.2em;}#sk-container-id-1 div.sk-label-container {text-align: center;}#sk-container-id-1 div.sk-container {/* jupyter's `normalize.less` sets `[hidden] { display: none; }` but bootstrap.min.css set `[hidden] { display: none !important; }` so we also need the `!important` here to be able to override the default hidden behavior on the sphinx rendered scikit-learn.org. See: https://github.com/scikit-learn/scikit-learn/issues/21755 */display: inline-block !important;position: relative;}#sk-container-id-1 div.sk-text-repr-fallback {display: none;}</style><div id=\"sk-container-id-1\" class=\"sk-top-container\"><div class=\"sk-text-repr-fallback\"><pre>LogisticRegression(solver=&#x27;liblinear&#x27;)</pre><b>In a Jupyter environment, please rerun this cell to show the HTML representation or trust the notebook. <br />On GitHub, the HTML representation is unable to render, please try loading this page with nbviewer.org.</b></div><div class=\"sk-container\" hidden><div class=\"sk-item\"><div class=\"sk-estimator sk-toggleable\"><input class=\"sk-toggleable__control sk-hidden--visually\" id=\"sk-estimator-id-1\" type=\"checkbox\" checked><label for=\"sk-estimator-id-1\" class=\"sk-toggleable__label sk-toggleable__label-arrow\">LogisticRegression</label><div class=\"sk-toggleable__content\"><pre>LogisticRegression(solver=&#x27;liblinear&#x27;)</pre></div></div></div></div></div>"
      ],
      "text/plain": [
       "LogisticRegression(solver='liblinear')"
      ]
     },
     "execution_count": 24,
     "metadata": {},
     "output_type": "execute_result"
    }
   ],
   "source": [
    "logistic_regression_model = LogisticRegression(solver = 'liblinear')\n",
    "logistic_regression_model.fit(X_train, y_train)"
   ]
  },
  {
   "cell_type": "code",
   "execution_count": 25,
   "metadata": {
    "colab": {
     "base_uri": "https://localhost:8080/",
     "height": 74
    },
    "id": "QwA5xFdadaei",
    "outputId": "d3c3b08e-fd2b-4773-bdb7-13010ef1e34a"
   },
   "outputs": [
    {
     "data": {
      "text/html": [
       "<style>#sk-container-id-2 {color: black;}#sk-container-id-2 pre{padding: 0;}#sk-container-id-2 div.sk-toggleable {background-color: white;}#sk-container-id-2 label.sk-toggleable__label {cursor: pointer;display: block;width: 100%;margin-bottom: 0;padding: 0.3em;box-sizing: border-box;text-align: center;}#sk-container-id-2 label.sk-toggleable__label-arrow:before {content: \"▸\";float: left;margin-right: 0.25em;color: #696969;}#sk-container-id-2 label.sk-toggleable__label-arrow:hover:before {color: black;}#sk-container-id-2 div.sk-estimator:hover label.sk-toggleable__label-arrow:before {color: black;}#sk-container-id-2 div.sk-toggleable__content {max-height: 0;max-width: 0;overflow: hidden;text-align: left;background-color: #f0f8ff;}#sk-container-id-2 div.sk-toggleable__content pre {margin: 0.2em;color: black;border-radius: 0.25em;background-color: #f0f8ff;}#sk-container-id-2 input.sk-toggleable__control:checked~div.sk-toggleable__content {max-height: 200px;max-width: 100%;overflow: auto;}#sk-container-id-2 input.sk-toggleable__control:checked~label.sk-toggleable__label-arrow:before {content: \"▾\";}#sk-container-id-2 div.sk-estimator input.sk-toggleable__control:checked~label.sk-toggleable__label {background-color: #d4ebff;}#sk-container-id-2 div.sk-label input.sk-toggleable__control:checked~label.sk-toggleable__label {background-color: #d4ebff;}#sk-container-id-2 input.sk-hidden--visually {border: 0;clip: rect(1px 1px 1px 1px);clip: rect(1px, 1px, 1px, 1px);height: 1px;margin: -1px;overflow: hidden;padding: 0;position: absolute;width: 1px;}#sk-container-id-2 div.sk-estimator {font-family: monospace;background-color: #f0f8ff;border: 1px dotted black;border-radius: 0.25em;box-sizing: border-box;margin-bottom: 0.5em;}#sk-container-id-2 div.sk-estimator:hover {background-color: #d4ebff;}#sk-container-id-2 div.sk-parallel-item::after {content: \"\";width: 100%;border-bottom: 1px solid gray;flex-grow: 1;}#sk-container-id-2 div.sk-label:hover label.sk-toggleable__label {background-color: #d4ebff;}#sk-container-id-2 div.sk-serial::before {content: \"\";position: absolute;border-left: 1px solid gray;box-sizing: border-box;top: 0;bottom: 0;left: 50%;z-index: 0;}#sk-container-id-2 div.sk-serial {display: flex;flex-direction: column;align-items: center;background-color: white;padding-right: 0.2em;padding-left: 0.2em;position: relative;}#sk-container-id-2 div.sk-item {position: relative;z-index: 1;}#sk-container-id-2 div.sk-parallel {display: flex;align-items: stretch;justify-content: center;background-color: white;position: relative;}#sk-container-id-2 div.sk-item::before, #sk-container-id-2 div.sk-parallel-item::before {content: \"\";position: absolute;border-left: 1px solid gray;box-sizing: border-box;top: 0;bottom: 0;left: 50%;z-index: -1;}#sk-container-id-2 div.sk-parallel-item {display: flex;flex-direction: column;z-index: 1;position: relative;background-color: white;}#sk-container-id-2 div.sk-parallel-item:first-child::after {align-self: flex-end;width: 50%;}#sk-container-id-2 div.sk-parallel-item:last-child::after {align-self: flex-start;width: 50%;}#sk-container-id-2 div.sk-parallel-item:only-child::after {width: 0;}#sk-container-id-2 div.sk-dashed-wrapped {border: 1px dashed gray;margin: 0 0.4em 0.5em 0.4em;box-sizing: border-box;padding-bottom: 0.4em;background-color: white;}#sk-container-id-2 div.sk-label label {font-family: monospace;font-weight: bold;display: inline-block;line-height: 1.2em;}#sk-container-id-2 div.sk-label-container {text-align: center;}#sk-container-id-2 div.sk-container {/* jupyter's `normalize.less` sets `[hidden] { display: none; }` but bootstrap.min.css set `[hidden] { display: none !important; }` so we also need the `!important` here to be able to override the default hidden behavior on the sphinx rendered scikit-learn.org. See: https://github.com/scikit-learn/scikit-learn/issues/21755 */display: inline-block !important;position: relative;}#sk-container-id-2 div.sk-text-repr-fallback {display: none;}</style><div id=\"sk-container-id-2\" class=\"sk-top-container\"><div class=\"sk-text-repr-fallback\"><pre>DecisionTreeClassifier(random_state=42)</pre><b>In a Jupyter environment, please rerun this cell to show the HTML representation or trust the notebook. <br />On GitHub, the HTML representation is unable to render, please try loading this page with nbviewer.org.</b></div><div class=\"sk-container\" hidden><div class=\"sk-item\"><div class=\"sk-estimator sk-toggleable\"><input class=\"sk-toggleable__control sk-hidden--visually\" id=\"sk-estimator-id-2\" type=\"checkbox\" checked><label for=\"sk-estimator-id-2\" class=\"sk-toggleable__label sk-toggleable__label-arrow\">DecisionTreeClassifier</label><div class=\"sk-toggleable__content\"><pre>DecisionTreeClassifier(random_state=42)</pre></div></div></div></div></div>"
      ],
      "text/plain": [
       "DecisionTreeClassifier(random_state=42)"
      ]
     },
     "execution_count": 25,
     "metadata": {},
     "output_type": "execute_result"
    }
   ],
   "source": [
    "decision_tree_model = DecisionTreeClassifier(random_state=42)\n",
    "decision_tree_model.fit(X_train, y_train)"
   ]
  },
  {
   "cell_type": "code",
   "execution_count": 26,
   "metadata": {
    "colab": {
     "base_uri": "https://localhost:8080/",
     "height": 74
    },
    "id": "m9Vh7XRXcKCS",
    "outputId": "bf6f810a-0ae3-4e06-f3e0-3394491e7785"
   },
   "outputs": [
    {
     "data": {
      "text/html": [
       "<style>#sk-container-id-3 {color: black;}#sk-container-id-3 pre{padding: 0;}#sk-container-id-3 div.sk-toggleable {background-color: white;}#sk-container-id-3 label.sk-toggleable__label {cursor: pointer;display: block;width: 100%;margin-bottom: 0;padding: 0.3em;box-sizing: border-box;text-align: center;}#sk-container-id-3 label.sk-toggleable__label-arrow:before {content: \"▸\";float: left;margin-right: 0.25em;color: #696969;}#sk-container-id-3 label.sk-toggleable__label-arrow:hover:before {color: black;}#sk-container-id-3 div.sk-estimator:hover label.sk-toggleable__label-arrow:before {color: black;}#sk-container-id-3 div.sk-toggleable__content {max-height: 0;max-width: 0;overflow: hidden;text-align: left;background-color: #f0f8ff;}#sk-container-id-3 div.sk-toggleable__content pre {margin: 0.2em;color: black;border-radius: 0.25em;background-color: #f0f8ff;}#sk-container-id-3 input.sk-toggleable__control:checked~div.sk-toggleable__content {max-height: 200px;max-width: 100%;overflow: auto;}#sk-container-id-3 input.sk-toggleable__control:checked~label.sk-toggleable__label-arrow:before {content: \"▾\";}#sk-container-id-3 div.sk-estimator input.sk-toggleable__control:checked~label.sk-toggleable__label {background-color: #d4ebff;}#sk-container-id-3 div.sk-label input.sk-toggleable__control:checked~label.sk-toggleable__label {background-color: #d4ebff;}#sk-container-id-3 input.sk-hidden--visually {border: 0;clip: rect(1px 1px 1px 1px);clip: rect(1px, 1px, 1px, 1px);height: 1px;margin: -1px;overflow: hidden;padding: 0;position: absolute;width: 1px;}#sk-container-id-3 div.sk-estimator {font-family: monospace;background-color: #f0f8ff;border: 1px dotted black;border-radius: 0.25em;box-sizing: border-box;margin-bottom: 0.5em;}#sk-container-id-3 div.sk-estimator:hover {background-color: #d4ebff;}#sk-container-id-3 div.sk-parallel-item::after {content: \"\";width: 100%;border-bottom: 1px solid gray;flex-grow: 1;}#sk-container-id-3 div.sk-label:hover label.sk-toggleable__label {background-color: #d4ebff;}#sk-container-id-3 div.sk-serial::before {content: \"\";position: absolute;border-left: 1px solid gray;box-sizing: border-box;top: 0;bottom: 0;left: 50%;z-index: 0;}#sk-container-id-3 div.sk-serial {display: flex;flex-direction: column;align-items: center;background-color: white;padding-right: 0.2em;padding-left: 0.2em;position: relative;}#sk-container-id-3 div.sk-item {position: relative;z-index: 1;}#sk-container-id-3 div.sk-parallel {display: flex;align-items: stretch;justify-content: center;background-color: white;position: relative;}#sk-container-id-3 div.sk-item::before, #sk-container-id-3 div.sk-parallel-item::before {content: \"\";position: absolute;border-left: 1px solid gray;box-sizing: border-box;top: 0;bottom: 0;left: 50%;z-index: -1;}#sk-container-id-3 div.sk-parallel-item {display: flex;flex-direction: column;z-index: 1;position: relative;background-color: white;}#sk-container-id-3 div.sk-parallel-item:first-child::after {align-self: flex-end;width: 50%;}#sk-container-id-3 div.sk-parallel-item:last-child::after {align-self: flex-start;width: 50%;}#sk-container-id-3 div.sk-parallel-item:only-child::after {width: 0;}#sk-container-id-3 div.sk-dashed-wrapped {border: 1px dashed gray;margin: 0 0.4em 0.5em 0.4em;box-sizing: border-box;padding-bottom: 0.4em;background-color: white;}#sk-container-id-3 div.sk-label label {font-family: monospace;font-weight: bold;display: inline-block;line-height: 1.2em;}#sk-container-id-3 div.sk-label-container {text-align: center;}#sk-container-id-3 div.sk-container {/* jupyter's `normalize.less` sets `[hidden] { display: none; }` but bootstrap.min.css set `[hidden] { display: none !important; }` so we also need the `!important` here to be able to override the default hidden behavior on the sphinx rendered scikit-learn.org. See: https://github.com/scikit-learn/scikit-learn/issues/21755 */display: inline-block !important;position: relative;}#sk-container-id-3 div.sk-text-repr-fallback {display: none;}</style><div id=\"sk-container-id-3\" class=\"sk-top-container\"><div class=\"sk-text-repr-fallback\"><pre>RandomForestClassifier(random_state=42)</pre><b>In a Jupyter environment, please rerun this cell to show the HTML representation or trust the notebook. <br />On GitHub, the HTML representation is unable to render, please try loading this page with nbviewer.org.</b></div><div class=\"sk-container\" hidden><div class=\"sk-item\"><div class=\"sk-estimator sk-toggleable\"><input class=\"sk-toggleable__control sk-hidden--visually\" id=\"sk-estimator-id-3\" type=\"checkbox\" checked><label for=\"sk-estimator-id-3\" class=\"sk-toggleable__label sk-toggleable__label-arrow\">RandomForestClassifier</label><div class=\"sk-toggleable__content\"><pre>RandomForestClassifier(random_state=42)</pre></div></div></div></div></div>"
      ],
      "text/plain": [
       "RandomForestClassifier(random_state=42)"
      ]
     },
     "execution_count": 26,
     "metadata": {},
     "output_type": "execute_result"
    }
   ],
   "source": [
    "random_forest_model = RandomForestClassifier(random_state=42)\n",
    "random_forest_model.fit(X_train, y_train)"
   ]
  },
  {
   "cell_type": "markdown",
   "metadata": {
    "id": "yRcnXxoZFNdf"
   },
   "source": [
    "# Task 5: Model Evaluation\n",
    "\n",
    "\n",
    "*   Evaluate the model's performance on the testing set using metrics such as accuracy, precision, recall, and F1-score.\n",
    "*   Report the results and discuss the strengths and weaknesses of your model.\n"
   ]
  },
  {
   "cell_type": "code",
   "execution_count": 27,
   "metadata": {
    "colab": {
     "base_uri": "https://localhost:8080/"
    },
    "id": "NvCz5pTUbssA",
    "outputId": "d881f7e4-44fe-42b1-9410-804f00404ff7"
   },
   "outputs": [
    {
     "name": "stdout",
     "output_type": "stream",
     "text": [
      "Accuracy: 0.7974683544303798\n"
     ]
    }
   ],
   "source": [
    "y_pred = logistic_regression_model.predict(X_test)\n",
    "accuracy = accuracy_score(y_test, y_pred)\n",
    "print(\"Accuracy:\", accuracy)"
   ]
  },
  {
   "cell_type": "code",
   "execution_count": 28,
   "metadata": {
    "colab": {
     "base_uri": "https://localhost:8080/"
    },
    "id": "fWhJ8kTlE9vw",
    "outputId": "f3480b09-d1fa-4a32-a205-64598786cd58"
   },
   "outputs": [
    {
     "name": "stdout",
     "output_type": "stream",
     "text": [
      "              precision    recall  f1-score   support\n",
      "\n",
      "           0       0.77      0.82      0.80       114\n",
      "           1       0.83      0.77      0.80       123\n",
      "\n",
      "    accuracy                           0.80       237\n",
      "   macro avg       0.80      0.80      0.80       237\n",
      "weighted avg       0.80      0.80      0.80       237\n",
      "\n"
     ]
    }
   ],
   "source": [
    "print(classification_report(y_test, y_pred))"
   ]
  },
  {
   "cell_type": "code",
   "execution_count": 29,
   "metadata": {
    "colab": {
     "base_uri": "https://localhost:8080/"
    },
    "id": "jvNhdgTrdhnx",
    "outputId": "2f571db3-d661-4b5a-bdb0-9d2b20d42699"
   },
   "outputs": [
    {
     "name": "stdout",
     "output_type": "stream",
     "text": [
      "Accuracy: 0.6708860759493671\n"
     ]
    }
   ],
   "source": [
    "y_pred = decision_tree_model.predict(X_test)\n",
    "accuracy = accuracy_score(y_test, y_pred)\n",
    "print(\"Accuracy:\", accuracy)"
   ]
  },
  {
   "cell_type": "code",
   "execution_count": 30,
   "metadata": {
    "colab": {
     "base_uri": "https://localhost:8080/"
    },
    "id": "2yF4BsM4FEmX",
    "outputId": "5e595eba-f548-4c3e-fc59-08e6fb5bf847"
   },
   "outputs": [
    {
     "name": "stdout",
     "output_type": "stream",
     "text": [
      "              precision    recall  f1-score   support\n",
      "\n",
      "           0       0.65      0.68      0.66       114\n",
      "           1       0.69      0.67      0.68       123\n",
      "\n",
      "    accuracy                           0.67       237\n",
      "   macro avg       0.67      0.67      0.67       237\n",
      "weighted avg       0.67      0.67      0.67       237\n",
      "\n"
     ]
    }
   ],
   "source": [
    "print(classification_report(y_test, y_pred))"
   ]
  },
  {
   "cell_type": "code",
   "execution_count": 31,
   "metadata": {
    "colab": {
     "base_uri": "https://localhost:8080/"
    },
    "id": "3-GIhI6YcWv-",
    "outputId": "87b30ae1-6e1f-48b7-f6bb-f2b824e40d43"
   },
   "outputs": [
    {
     "name": "stdout",
     "output_type": "stream",
     "text": [
      "Accuracy: 0.6877637130801688\n"
     ]
    }
   ],
   "source": [
    "y_pred = random_forest_model.predict(X_test)\n",
    "accuracy = accuracy_score(y_test, y_pred)\n",
    "print(\"Accuracy:\", accuracy)"
   ]
  },
  {
   "cell_type": "code",
   "execution_count": 32,
   "metadata": {
    "colab": {
     "base_uri": "https://localhost:8080/"
    },
    "id": "XzbeldP8cckD",
    "outputId": "e9d57d44-ff0b-44f2-b765-1a110d518b73"
   },
   "outputs": [
    {
     "name": "stdout",
     "output_type": "stream",
     "text": [
      "              precision    recall  f1-score   support\n",
      "\n",
      "           0       0.65      0.75      0.70       114\n",
      "           1       0.73      0.63      0.68       123\n",
      "\n",
      "    accuracy                           0.69       237\n",
      "   macro avg       0.69      0.69      0.69       237\n",
      "weighted avg       0.69      0.69      0.69       237\n",
      "\n"
     ]
    }
   ],
   "source": [
    "print(classification_report(y_test, y_pred))"
   ]
  },
  {
   "cell_type": "markdown",
   "metadata": {
    "id": "tiL5dVVxYYIK"
   },
   "source": [
    "* Logistic regression, Random Forest and Decision tree have precision and recall both balanced which showcases that it shows less chances of false positives and false negatives.\n",
    "* Comparing Logistic regression, Random Forest and Decision tree as the accuracy is more for Logistic regression we can expect greater chances of right prediction."
   ]
  },
  {
   "cell_type": "markdown",
   "metadata": {
    "id": "fW8S8tCAFZhb"
   },
   "source": [
    "# Task 6: User-Friendly Interface\n",
    "\n",
    "* As an optional task, create a simple command-line interface (CLI)\n",
    "where users can input a name, and your model can predict the likely\n",
    "gender associated with that name."
   ]
  },
  {
   "cell_type": "code",
   "execution_count": 33,
   "metadata": {
    "id": "m_-vbjhYbz18"
   },
   "outputs": [],
   "source": [
    "def predict_gender(input_name, model, vectorizer):\n",
    "    gender = []\n",
    "    regex = re.compile('[^a-zA-Z]')\n",
    "    input_names = [name.lower() for name in input_name]\n",
    "    input_names = [regex.sub('',name) for name in input_names]\n",
    "    input_features = vectorizer.transform(input_names)\n",
    "    predicted_gender = model.predict(input_features)\n",
    "    for i in range(0,len(predicted_gender)):\n",
    "      if predicted_gender[i] == 0:\n",
    "        gender.append('Female')\n",
    "      elif predicted_gender[i] == 1:\n",
    "         gender.append('Male')\n",
    "    return gender"
   ]
  },
  {
   "cell_type": "code",
   "execution_count": 34,
   "metadata": {
    "colab": {
     "base_uri": "https://localhost:8080/"
    },
    "id": "k9pD9pKPDFwt",
    "outputId": "2f2505f0-72ce-474b-c96a-b58eae81078b"
   },
   "outputs": [],
   "source": [
    "input_arr = [str(x) for x in input(\"Enter multiple values: \").split(',')]"
   ]
  },
  {
   "cell_type": "code",
   "execution_count": 35,
   "metadata": {
    "colab": {
     "base_uri": "https://localhost:8080/"
    },
    "id": "Y7qSj8_Zb-it",
    "outputId": "aec1ab3c-17fe-44c7-c553-f0afa157b120"
   },
   "outputs": [
    {
     "name": "stderr",
     "output_type": "stream",
     "text": [
      "c:\\Users\\munga\\Documents\\Personal_Projects\\Gender Classification\\venv\\lib\\site-packages\\sklearn\\base.py:465: UserWarning: X does not have valid feature names, but LogisticRegression was fitted with feature names\n",
      "  warnings.warn(\n"
     ]
    }
   ],
   "source": [
    "predicted_genders_log = predict_gender(input_arr,logistic_regression_model,vectorizer)"
   ]
  },
  {
   "cell_type": "code",
   "execution_count": 36,
   "metadata": {
    "colab": {
     "base_uri": "https://localhost:8080/"
    },
    "id": "rqrC1_jicK0j",
    "outputId": "2368cc3c-4aa4-45b2-9ada-9dfc501b3e6a"
   },
   "outputs": [
    {
     "name": "stderr",
     "output_type": "stream",
     "text": [
      "c:\\Users\\munga\\Documents\\Personal_Projects\\Gender Classification\\venv\\lib\\site-packages\\sklearn\\base.py:465: UserWarning: X does not have valid feature names, but DecisionTreeClassifier was fitted with feature names\n",
      "  warnings.warn(\n"
     ]
    }
   ],
   "source": [
    "predicted_genders_tree = predict_gender(input_arr,decision_tree_model,vectorizer)"
   ]
  },
  {
   "cell_type": "code",
   "execution_count": 37,
   "metadata": {
    "colab": {
     "base_uri": "https://localhost:8080/"
    },
    "id": "DjCfZFvlcocP",
    "outputId": "6bdf822a-2ca5-48ac-bd30-b35216386362"
   },
   "outputs": [
    {
     "name": "stderr",
     "output_type": "stream",
     "text": [
      "c:\\Users\\munga\\Documents\\Personal_Projects\\Gender Classification\\venv\\lib\\site-packages\\sklearn\\base.py:465: UserWarning: X does not have valid feature names, but RandomForestClassifier was fitted with feature names\n",
      "  warnings.warn(\n"
     ]
    }
   ],
   "source": [
    "predicted_genders_rf = predict_gender(input_arr,random_forest_model,vectorizer)"
   ]
  },
  {
   "cell_type": "code",
   "execution_count": 38,
   "metadata": {
    "colab": {
     "base_uri": "https://localhost:8080/"
    },
    "id": "TLnJ-QQH5dtK",
    "outputId": "c5b314e2-4a61-4d46-d897-319df5095d2b"
   },
   "outputs": [
    {
     "name": "stdout",
     "output_type": "stream",
     "text": [
      "Predicted gender for 'Sudeep': Male\n",
      "Predicted gender for 'Navya': Female\n",
      "Predicted gender for 'Nikhil': Male\n",
      "Predicted gender for 'Aslam': Female\n",
      "Predicted gender for 'Satya': Female\n",
      "Predicted gender for 'Alay': Male\n",
      "Predicted gender for 'Saptarshi': Female\n"
     ]
    }
   ],
   "source": [
    "for name, gender in zip(input_arr, predicted_genders_log):\n",
    "    print(f\"Predicted gender for '{name}': {gender}\")"
   ]
  },
  {
   "cell_type": "code",
   "execution_count": 39,
   "metadata": {
    "colab": {
     "base_uri": "https://localhost:8080/"
    },
    "id": "2bCTCrWG5gvr",
    "outputId": "1ea7a554-1cfa-46a5-bd23-505c96d52dab"
   },
   "outputs": [
    {
     "name": "stdout",
     "output_type": "stream",
     "text": [
      "Predicted gender for 'Sudeep': Male\n",
      "Predicted gender for 'Navya': Female\n",
      "Predicted gender for 'Nikhil': Male\n",
      "Predicted gender for 'Aslam': Female\n",
      "Predicted gender for 'Satya': Female\n",
      "Predicted gender for 'Alay': Male\n",
      "Predicted gender for 'Saptarshi': Male\n"
     ]
    }
   ],
   "source": [
    "for name, gender in zip(input_arr, predicted_genders_tree):\n",
    "    print(f\"Predicted gender for '{name}': {gender}\")"
   ]
  },
  {
   "cell_type": "code",
   "execution_count": 40,
   "metadata": {
    "colab": {
     "base_uri": "https://localhost:8080/"
    },
    "id": "zD2nJQZhczaF",
    "outputId": "8d21765e-47e6-476d-c0a9-6f53173d7606"
   },
   "outputs": [
    {
     "name": "stdout",
     "output_type": "stream",
     "text": [
      "Predicted gender for 'Sudeep': Male\n",
      "Predicted gender for 'Navya': Female\n",
      "Predicted gender for 'Nikhil': Male\n",
      "Predicted gender for 'Aslam': Female\n",
      "Predicted gender for 'Satya': Female\n",
      "Predicted gender for 'Alay': Male\n",
      "Predicted gender for 'Saptarshi': Male\n"
     ]
    }
   ],
   "source": [
    "for name, gender in zip(input_arr, predicted_genders_rf):\n",
    "    print(f\"Predicted gender for '{name}': {gender}\")"
   ]
  },
  {
   "cell_type": "code",
   "execution_count": 41,
   "metadata": {
    "id": "BjwaV7_FEOQF"
   },
   "outputs": [],
   "source": [
    "log_param_grid = {\n",
    "    'C': [0.1, 0.5,1.0],\n",
    "    'max_iter': [80,100, 200, 300],\n",
    "    'solver': ['liblinear', 'lbfgs'],\n",
    "    'penalty': ['l1', 'l2','elasticnet']\n",
    "}"
   ]
  },
  {
   "cell_type": "code",
   "execution_count": 42,
   "metadata": {
    "colab": {
     "base_uri": "https://localhost:8080/",
     "height": 1000
    },
    "id": "CUGmzaxeQcUj",
    "outputId": "fbe8882a-79f9-4279-c22d-4a4525d13663"
   },
   "outputs": [
    {
     "name": "stderr",
     "output_type": "stream",
     "text": [
      "c:\\Users\\munga\\Documents\\Personal_Projects\\Gender Classification\\venv\\lib\\site-packages\\sklearn\\model_selection\\_validation.py:425: FitFailedWarning: \n",
      "180 fits failed out of a total of 360.\n",
      "The score on these train-test partitions for these parameters will be set to nan.\n",
      "If these failures are not expected, you can try to debug them by setting error_score='raise'.\n",
      "\n",
      "Below are more details about the failures:\n",
      "--------------------------------------------------------------------------------\n",
      "60 fits failed with the following error:\n",
      "Traceback (most recent call last):\n",
      "  File \"c:\\Users\\munga\\Documents\\Personal_Projects\\Gender Classification\\venv\\lib\\site-packages\\sklearn\\model_selection\\_validation.py\", line 729, in _fit_and_score\n",
      "    estimator.fit(X_train, y_train, **fit_params)\n",
      "  File \"c:\\Users\\munga\\Documents\\Personal_Projects\\Gender Classification\\venv\\lib\\site-packages\\sklearn\\base.py\", line 1152, in wrapper\n",
      "    return fit_method(estimator, *args, **kwargs)\n",
      "  File \"c:\\Users\\munga\\Documents\\Personal_Projects\\Gender Classification\\venv\\lib\\site-packages\\sklearn\\linear_model\\_logistic.py\", line 1169, in fit\n",
      "    solver = _check_solver(self.solver, self.penalty, self.dual)\n",
      "  File \"c:\\Users\\munga\\Documents\\Personal_Projects\\Gender Classification\\venv\\lib\\site-packages\\sklearn\\linear_model\\_logistic.py\", line 56, in _check_solver\n",
      "    raise ValueError(\n",
      "ValueError: Solver lbfgs supports only 'l2' or 'none' penalties, got l1 penalty.\n",
      "\n",
      "--------------------------------------------------------------------------------\n",
      "60 fits failed with the following error:\n",
      "Traceback (most recent call last):\n",
      "  File \"c:\\Users\\munga\\Documents\\Personal_Projects\\Gender Classification\\venv\\lib\\site-packages\\sklearn\\model_selection\\_validation.py\", line 729, in _fit_and_score\n",
      "    estimator.fit(X_train, y_train, **fit_params)\n",
      "  File \"c:\\Users\\munga\\Documents\\Personal_Projects\\Gender Classification\\venv\\lib\\site-packages\\sklearn\\base.py\", line 1152, in wrapper\n",
      "    return fit_method(estimator, *args, **kwargs)\n",
      "  File \"c:\\Users\\munga\\Documents\\Personal_Projects\\Gender Classification\\venv\\lib\\site-packages\\sklearn\\linear_model\\_logistic.py\", line 1169, in fit\n",
      "    solver = _check_solver(self.solver, self.penalty, self.dual)\n",
      "  File \"c:\\Users\\munga\\Documents\\Personal_Projects\\Gender Classification\\venv\\lib\\site-packages\\sklearn\\linear_model\\_logistic.py\", line 66, in _check_solver\n",
      "    raise ValueError(\n",
      "ValueError: Only 'saga' solver supports elasticnet penalty, got solver=liblinear.\n",
      "\n",
      "--------------------------------------------------------------------------------\n",
      "60 fits failed with the following error:\n",
      "Traceback (most recent call last):\n",
      "  File \"c:\\Users\\munga\\Documents\\Personal_Projects\\Gender Classification\\venv\\lib\\site-packages\\sklearn\\model_selection\\_validation.py\", line 729, in _fit_and_score\n",
      "    estimator.fit(X_train, y_train, **fit_params)\n",
      "  File \"c:\\Users\\munga\\Documents\\Personal_Projects\\Gender Classification\\venv\\lib\\site-packages\\sklearn\\base.py\", line 1152, in wrapper\n",
      "    return fit_method(estimator, *args, **kwargs)\n",
      "  File \"c:\\Users\\munga\\Documents\\Personal_Projects\\Gender Classification\\venv\\lib\\site-packages\\sklearn\\linear_model\\_logistic.py\", line 1169, in fit\n",
      "    solver = _check_solver(self.solver, self.penalty, self.dual)\n",
      "  File \"c:\\Users\\munga\\Documents\\Personal_Projects\\Gender Classification\\venv\\lib\\site-packages\\sklearn\\linear_model\\_logistic.py\", line 56, in _check_solver\n",
      "    raise ValueError(\n",
      "ValueError: Solver lbfgs supports only 'l2' or 'none' penalties, got elasticnet penalty.\n",
      "\n",
      "  warnings.warn(some_fits_failed_message, FitFailedWarning)\n",
      "c:\\Users\\munga\\Documents\\Personal_Projects\\Gender Classification\\venv\\lib\\site-packages\\sklearn\\model_selection\\_search.py:979: UserWarning: One or more of the test scores are non-finite: [0.58668338        nan 0.70086327 0.70192147        nan        nan\n",
      " 0.58668338        nan 0.70086327 0.70192147        nan        nan\n",
      " 0.58668338        nan 0.70086327 0.70192147        nan        nan\n",
      " 0.58668338        nan 0.70086327 0.70192147        nan        nan\n",
      " 0.69978279        nan 0.73783347 0.73783347        nan        nan\n",
      " 0.69978279        nan 0.73783347 0.73783347        nan        nan\n",
      " 0.69978279        nan 0.73783347 0.73783347        nan        nan\n",
      " 0.69978279        nan 0.73783347 0.73783347        nan        nan\n",
      " 0.75473127        nan 0.75370649 0.75264829        nan        nan\n",
      " 0.75473127        nan 0.75370649 0.75264829        nan        nan\n",
      " 0.75473127        nan 0.75370649 0.75264829        nan        nan\n",
      " 0.75473127        nan 0.75370649 0.75264829        nan        nan]\n",
      "  warnings.warn(\n"
     ]
    },
    {
     "data": {
      "text/html": [
       "<style>#sk-container-id-4 {color: black;}#sk-container-id-4 pre{padding: 0;}#sk-container-id-4 div.sk-toggleable {background-color: white;}#sk-container-id-4 label.sk-toggleable__label {cursor: pointer;display: block;width: 100%;margin-bottom: 0;padding: 0.3em;box-sizing: border-box;text-align: center;}#sk-container-id-4 label.sk-toggleable__label-arrow:before {content: \"▸\";float: left;margin-right: 0.25em;color: #696969;}#sk-container-id-4 label.sk-toggleable__label-arrow:hover:before {color: black;}#sk-container-id-4 div.sk-estimator:hover label.sk-toggleable__label-arrow:before {color: black;}#sk-container-id-4 div.sk-toggleable__content {max-height: 0;max-width: 0;overflow: hidden;text-align: left;background-color: #f0f8ff;}#sk-container-id-4 div.sk-toggleable__content pre {margin: 0.2em;color: black;border-radius: 0.25em;background-color: #f0f8ff;}#sk-container-id-4 input.sk-toggleable__control:checked~div.sk-toggleable__content {max-height: 200px;max-width: 100%;overflow: auto;}#sk-container-id-4 input.sk-toggleable__control:checked~label.sk-toggleable__label-arrow:before {content: \"▾\";}#sk-container-id-4 div.sk-estimator input.sk-toggleable__control:checked~label.sk-toggleable__label {background-color: #d4ebff;}#sk-container-id-4 div.sk-label input.sk-toggleable__control:checked~label.sk-toggleable__label {background-color: #d4ebff;}#sk-container-id-4 input.sk-hidden--visually {border: 0;clip: rect(1px 1px 1px 1px);clip: rect(1px, 1px, 1px, 1px);height: 1px;margin: -1px;overflow: hidden;padding: 0;position: absolute;width: 1px;}#sk-container-id-4 div.sk-estimator {font-family: monospace;background-color: #f0f8ff;border: 1px dotted black;border-radius: 0.25em;box-sizing: border-box;margin-bottom: 0.5em;}#sk-container-id-4 div.sk-estimator:hover {background-color: #d4ebff;}#sk-container-id-4 div.sk-parallel-item::after {content: \"\";width: 100%;border-bottom: 1px solid gray;flex-grow: 1;}#sk-container-id-4 div.sk-label:hover label.sk-toggleable__label {background-color: #d4ebff;}#sk-container-id-4 div.sk-serial::before {content: \"\";position: absolute;border-left: 1px solid gray;box-sizing: border-box;top: 0;bottom: 0;left: 50%;z-index: 0;}#sk-container-id-4 div.sk-serial {display: flex;flex-direction: column;align-items: center;background-color: white;padding-right: 0.2em;padding-left: 0.2em;position: relative;}#sk-container-id-4 div.sk-item {position: relative;z-index: 1;}#sk-container-id-4 div.sk-parallel {display: flex;align-items: stretch;justify-content: center;background-color: white;position: relative;}#sk-container-id-4 div.sk-item::before, #sk-container-id-4 div.sk-parallel-item::before {content: \"\";position: absolute;border-left: 1px solid gray;box-sizing: border-box;top: 0;bottom: 0;left: 50%;z-index: -1;}#sk-container-id-4 div.sk-parallel-item {display: flex;flex-direction: column;z-index: 1;position: relative;background-color: white;}#sk-container-id-4 div.sk-parallel-item:first-child::after {align-self: flex-end;width: 50%;}#sk-container-id-4 div.sk-parallel-item:last-child::after {align-self: flex-start;width: 50%;}#sk-container-id-4 div.sk-parallel-item:only-child::after {width: 0;}#sk-container-id-4 div.sk-dashed-wrapped {border: 1px dashed gray;margin: 0 0.4em 0.5em 0.4em;box-sizing: border-box;padding-bottom: 0.4em;background-color: white;}#sk-container-id-4 div.sk-label label {font-family: monospace;font-weight: bold;display: inline-block;line-height: 1.2em;}#sk-container-id-4 div.sk-label-container {text-align: center;}#sk-container-id-4 div.sk-container {/* jupyter's `normalize.less` sets `[hidden] { display: none; }` but bootstrap.min.css set `[hidden] { display: none !important; }` so we also need the `!important` here to be able to override the default hidden behavior on the sphinx rendered scikit-learn.org. See: https://github.com/scikit-learn/scikit-learn/issues/21755 */display: inline-block !important;position: relative;}#sk-container-id-4 div.sk-text-repr-fallback {display: none;}</style><div id=\"sk-container-id-4\" class=\"sk-top-container\"><div class=\"sk-text-repr-fallback\"><pre>GridSearchCV(cv=5, estimator=LogisticRegression(),\n",
       "             param_grid={&#x27;C&#x27;: [0.1, 0.5, 1.0], &#x27;max_iter&#x27;: [80, 100, 200, 300],\n",
       "                         &#x27;penalty&#x27;: [&#x27;l1&#x27;, &#x27;l2&#x27;, &#x27;elasticnet&#x27;],\n",
       "                         &#x27;solver&#x27;: [&#x27;liblinear&#x27;, &#x27;lbfgs&#x27;]},\n",
       "             scoring=&#x27;accuracy&#x27;)</pre><b>In a Jupyter environment, please rerun this cell to show the HTML representation or trust the notebook. <br />On GitHub, the HTML representation is unable to render, please try loading this page with nbviewer.org.</b></div><div class=\"sk-container\" hidden><div class=\"sk-item sk-dashed-wrapped\"><div class=\"sk-label-container\"><div class=\"sk-label sk-toggleable\"><input class=\"sk-toggleable__control sk-hidden--visually\" id=\"sk-estimator-id-4\" type=\"checkbox\" ><label for=\"sk-estimator-id-4\" class=\"sk-toggleable__label sk-toggleable__label-arrow\">GridSearchCV</label><div class=\"sk-toggleable__content\"><pre>GridSearchCV(cv=5, estimator=LogisticRegression(),\n",
       "             param_grid={&#x27;C&#x27;: [0.1, 0.5, 1.0], &#x27;max_iter&#x27;: [80, 100, 200, 300],\n",
       "                         &#x27;penalty&#x27;: [&#x27;l1&#x27;, &#x27;l2&#x27;, &#x27;elasticnet&#x27;],\n",
       "                         &#x27;solver&#x27;: [&#x27;liblinear&#x27;, &#x27;lbfgs&#x27;]},\n",
       "             scoring=&#x27;accuracy&#x27;)</pre></div></div></div><div class=\"sk-parallel\"><div class=\"sk-parallel-item\"><div class=\"sk-item\"><div class=\"sk-label-container\"><div class=\"sk-label sk-toggleable\"><input class=\"sk-toggleable__control sk-hidden--visually\" id=\"sk-estimator-id-5\" type=\"checkbox\" ><label for=\"sk-estimator-id-5\" class=\"sk-toggleable__label sk-toggleable__label-arrow\">estimator: LogisticRegression</label><div class=\"sk-toggleable__content\"><pre>LogisticRegression()</pre></div></div></div><div class=\"sk-serial\"><div class=\"sk-item\"><div class=\"sk-estimator sk-toggleable\"><input class=\"sk-toggleable__control sk-hidden--visually\" id=\"sk-estimator-id-6\" type=\"checkbox\" ><label for=\"sk-estimator-id-6\" class=\"sk-toggleable__label sk-toggleable__label-arrow\">LogisticRegression</label><div class=\"sk-toggleable__content\"><pre>LogisticRegression()</pre></div></div></div></div></div></div></div></div></div></div>"
      ],
      "text/plain": [
       "GridSearchCV(cv=5, estimator=LogisticRegression(),\n",
       "             param_grid={'C': [0.1, 0.5, 1.0], 'max_iter': [80, 100, 200, 300],\n",
       "                         'penalty': ['l1', 'l2', 'elasticnet'],\n",
       "                         'solver': ['liblinear', 'lbfgs']},\n",
       "             scoring='accuracy')"
      ]
     },
     "execution_count": 42,
     "metadata": {},
     "output_type": "execute_result"
    }
   ],
   "source": [
    "logistic_regression = LogisticRegression()\n",
    "grid_search = GridSearchCV(logistic_regression, log_param_grid, cv=5, scoring='accuracy')\n",
    "grid_search.fit(X_train, y_train)"
   ]
  },
  {
   "cell_type": "code",
   "execution_count": 43,
   "metadata": {
    "colab": {
     "base_uri": "https://localhost:8080/"
    },
    "id": "w4gnpeOYQwGj",
    "outputId": "b1e58083-291a-4dd5-aa71-d7f8945cd023"
   },
   "outputs": [
    {
     "name": "stdout",
     "output_type": "stream",
     "text": [
      "Best Hyperparameters: {'C': 1.0, 'max_iter': 80, 'penalty': 'l1', 'solver': 'liblinear'}\n",
      "Classification Report:\n",
      "              precision    recall  f1-score   support\n",
      "\n",
      "           0       0.79      0.85      0.82       114\n",
      "           1       0.85      0.79      0.82       123\n",
      "\n",
      "    accuracy                           0.82       237\n",
      "   macro avg       0.82      0.82      0.82       237\n",
      "weighted avg       0.82      0.82      0.82       237\n",
      "\n"
     ]
    }
   ],
   "source": [
    "best_params = grid_search.best_params_\n",
    "print(\"Best Hyperparameters:\", best_params)\n",
    "\n",
    "log_best_model = grid_search.best_estimator_\n",
    "y_pred = log_best_model.predict(X_test)\n",
    "\n",
    "classification_rep = classification_report(y_test, y_pred)\n",
    "print(\"Classification Report:\")\n",
    "print(classification_rep)"
   ]
  },
  {
   "cell_type": "code",
   "execution_count": 44,
   "metadata": {},
   "outputs": [],
   "source": [
    "filename = '/pickle/gender_classification_model.pkl'\n",
    "pickle.dump(log_best_model,open(filename,'wb'))"
   ]
  },
  {
   "cell_type": "code",
   "execution_count": 45,
   "metadata": {
    "id": "bbHPJRJ-RANp"
   },
   "outputs": [],
   "source": [
    "tree_param_grid = {\n",
    "    'criterion': ['gini', 'entropy'],\n",
    "    'max_depth': [None, 5, 10, 15, 20, 40 , 60],\n",
    "    'splitter':['best','random'],\n",
    "    'min_samples_split': [1,2, 5, 10, 20, 50, 70],\n",
    "    'min_samples_leaf': [1, 2, 4, 8, 16]\n",
    "}"
   ]
  },
  {
   "cell_type": "code",
   "execution_count": 46,
   "metadata": {
    "colab": {
     "base_uri": "https://localhost:8080/",
     "height": 1000
    },
    "id": "5U39zhUURn6T",
    "outputId": "6cd25898-f0c1-44c9-d1c0-edc13d05565f"
   },
   "outputs": [
    {
     "name": "stderr",
     "output_type": "stream",
     "text": [
      "c:\\Users\\munga\\Documents\\Personal_Projects\\Gender Classification\\venv\\lib\\site-packages\\sklearn\\model_selection\\_validation.py:425: FitFailedWarning: \n",
      "700 fits failed out of a total of 4900.\n",
      "The score on these train-test partitions for these parameters will be set to nan.\n",
      "If these failures are not expected, you can try to debug them by setting error_score='raise'.\n",
      "\n",
      "Below are more details about the failures:\n",
      "--------------------------------------------------------------------------------\n",
      "700 fits failed with the following error:\n",
      "Traceback (most recent call last):\n",
      "  File \"c:\\Users\\munga\\Documents\\Personal_Projects\\Gender Classification\\venv\\lib\\site-packages\\sklearn\\model_selection\\_validation.py\", line 729, in _fit_and_score\n",
      "    estimator.fit(X_train, y_train, **fit_params)\n",
      "  File \"c:\\Users\\munga\\Documents\\Personal_Projects\\Gender Classification\\venv\\lib\\site-packages\\sklearn\\base.py\", line 1145, in wrapper\n",
      "    estimator._validate_params()\n",
      "  File \"c:\\Users\\munga\\Documents\\Personal_Projects\\Gender Classification\\venv\\lib\\site-packages\\sklearn\\base.py\", line 638, in _validate_params\n",
      "    validate_parameter_constraints(\n",
      "  File \"c:\\Users\\munga\\Documents\\Personal_Projects\\Gender Classification\\venv\\lib\\site-packages\\sklearn\\utils\\_param_validation.py\", line 95, in validate_parameter_constraints\n",
      "    raise InvalidParameterError(\n",
      "sklearn.utils._param_validation.InvalidParameterError: The 'min_samples_split' parameter of DecisionTreeClassifier must be an int in the range [2, inf) or a float in the range (0.0, 1.0]. Got 1 instead.\n",
      "\n",
      "  warnings.warn(some_fits_failed_message, FitFailedWarning)\n",
      "c:\\Users\\munga\\Documents\\Personal_Projects\\Gender Classification\\venv\\lib\\site-packages\\sklearn\\model_selection\\_search.py:979: UserWarning: One or more of the test scores are non-finite: [       nan        nan 0.68606516 0.67759398 0.70084099 0.67121136\n",
      " 0.68709552 0.67757171 0.70188805 0.69873573 0.67654135 0.65857421\n",
      " 0.67440267 0.65853523        nan        nan 0.68079087 0.66177666\n",
      " 0.65754943 0.66703425 0.67969925 0.6796714  0.67124478 0.67233083\n",
      " 0.69238652 0.66174325 0.68392091 0.66386522        nan        nan\n",
      " 0.66916736 0.65121693 0.67657477 0.6553829  0.66492899 0.64798106\n",
      " 0.68079644 0.65965469 0.67654692 0.66702868 0.67125035 0.66492899\n",
      "        nan        nan 0.65856307 0.65966583 0.66067948 0.6363687\n",
      " 0.66173768 0.65223615 0.65856307 0.64802562 0.65961014 0.63429685\n",
      " 0.66489    0.64378168        nan        nan 0.65859092 0.63006962\n",
      " 0.65859092 0.63956001 0.65859092 0.64692286 0.65859092 0.64374269\n",
      " 0.65859092 0.65012531 0.65964912 0.65010304        nan        nan\n",
      " 0.58242829 0.58772487 0.58137566 0.58243386 0.58560847 0.56868282\n",
      " 0.58243386 0.57184628 0.58560847 0.57079922 0.58031746 0.57396825\n",
      "        nan        nan 0.57293233 0.57610693 0.57822334 0.57187413\n",
      " 0.57715957 0.58031746 0.58245057 0.5761125  0.58349206 0.57925926\n",
      " 0.58242829 0.57504316        nan        nan 0.57401281 0.5750543\n",
      " 0.57507101 0.56871067 0.57295461 0.57189084 0.57295461 0.57294347\n",
      " 0.57822334 0.56765803 0.57822334 0.56975773        nan        nan\n",
      " 0.5739961  0.57082707 0.5718797  0.56871067 0.5739961  0.56871067\n",
      " 0.5739961  0.56871067 0.57399053 0.56974659 0.57610693 0.5718797\n",
      "        nan        nan 0.57928154 0.57400167 0.57928154 0.57820663\n",
      " 0.57928154 0.57610693 0.57928154 0.57188527 0.57928154 0.57294347\n",
      " 0.57928154 0.57187413        nan        nan 0.59933166 0.5940685\n",
      " 0.60779727 0.59512114 0.59721526 0.59406294 0.59933166 0.59617377\n",
      " 0.6046171  0.5972264  0.60356447 0.60991367        nan        nan\n",
      " 0.59831245 0.5856196  0.59407964 0.58669451 0.5940685  0.59512114\n",
      " 0.60147034 0.59721526 0.6046171  0.61204678 0.60250627 0.59615706\n",
      "        nan        nan 0.58986912 0.58879978 0.59092175 0.59196881\n",
      " 0.58881092 0.60045113 0.58985241 0.58351991 0.59724311 0.59937065\n",
      " 0.59512114 0.59196324        nan        nan 0.60359231 0.58456697\n",
      " 0.60676692 0.59408521 0.60465052 0.60253968 0.60676692 0.60253968\n",
      " 0.60464495 0.59513784 0.60570315 0.60357561        nan        nan\n",
      " 0.5930103  0.5908939  0.5930103  0.58457254 0.5930103  0.58246728\n",
      " 0.5930103  0.59409635 0.5930103  0.58558619 0.5930103  0.5898357\n",
      "        nan        nan 0.62681147 0.59090504 0.63314397 0.61738234\n",
      " 0.63313283 0.60569201 0.63526037 0.63319967 0.63103314 0.64690615\n",
      " 0.62891674 0.62258424        nan        nan 0.62471178 0.61736564\n",
      " 0.62471178 0.6099081  0.63211362 0.6173545  0.62999165 0.61417989\n",
      " 0.62892231 0.62256753 0.63103314 0.6226455         nan        nan\n",
      " 0.61838485 0.6077917  0.61627959 0.6068059  0.61733779 0.59096074\n",
      " 0.62155388 0.62162629 0.62153718 0.62268449 0.62258981 0.59728766\n",
      "        nan        nan 0.63212476 0.6057477  0.63212476 0.61949318\n",
      " 0.63529936 0.60258424 0.63529936 0.62262322 0.62788081 0.61738791\n",
      " 0.62893901 0.60680033        nan        nan 0.63108326 0.62577555\n",
      " 0.63108326 0.62470064 0.63108326 0.6310944  0.63108326 0.6268616\n",
      " 0.63108326 0.62578669 0.63002506 0.63423559        nan        nan\n",
      " 0.65852966 0.64802005 0.65746032 0.65115567 0.66064606 0.65854637\n",
      " 0.67437483 0.65752715 0.66276246 0.64377611 0.65218602 0.65750487\n",
      "        nan        nan 0.64904483 0.6512225  0.64906711 0.64489\n",
      " 0.66172654 0.66173768 0.66066834 0.63845725 0.66170983 0.64795322\n",
      " 0.64901142 0.64267335        nan        nan 0.62793094 0.64484545\n",
      " 0.63215817 0.64062378 0.62899471 0.63955444 0.63426901 0.6331941\n",
      " 0.64059593 0.64063492 0.63847953 0.61736007        nan        nan\n",
      " 0.6363687  0.62686717 0.6342523  0.62366472 0.6363687  0.62793651\n",
      " 0.62896129 0.62157616 0.63212476 0.63321637 0.63106656 0.62794208\n",
      "        nan        nan 0.65224172 0.63111668 0.65224172 0.63108326\n",
      " 0.65224172 0.62793094 0.65224172 0.62473963 0.65224172 0.63845725\n",
      " 0.65329992 0.62477304        nan        nan 0.682846   0.68287942\n",
      " 0.69871345 0.67332219 0.69128376 0.66167641 0.69660819 0.6838875\n",
      " 0.67653021 0.68076859 0.67229184 0.65746589        nan        nan\n",
      " 0.66388193 0.64800334 0.66811473 0.66594263 0.68077973 0.66172097\n",
      " 0.67866889 0.66911724 0.67865219 0.67759955 0.67016987 0.65116681\n",
      "        nan        nan 0.65964912 0.65749373 0.66282373 0.66174882\n",
      " 0.65647452 0.66177109 0.66175439 0.66599833 0.66913395 0.65225285\n",
      " 0.66385408 0.66388193        nan        nan 0.65750487 0.65221387\n",
      " 0.65538847 0.64273461 0.65856307 0.63531607 0.65856307 0.64903926\n",
      " 0.65961014 0.64910053 0.66489    0.64273461        nan        nan\n",
      " 0.65859092 0.65011417 0.65859092 0.64057923 0.65859092 0.6374269\n",
      " 0.65859092 0.62898914 0.65859092 0.64166527 0.65964912 0.64587023\n",
      "        nan        nan 0.68393205 0.67652464 0.69237538 0.66380952\n",
      " 0.69340574 0.67757171 0.69342801 0.68602061 0.68285157 0.67334447\n",
      " 0.67757728 0.65850738        nan        nan 0.67554442 0.65436926\n",
      " 0.66918407 0.68605402 0.68182679 0.67233083 0.68291841 0.65329992\n",
      " 0.68710109 0.66490671 0.67228627 0.66279588        nan        nan\n",
      " 0.66917293 0.6522807  0.67656363 0.64381509 0.66388193 0.67547201\n",
      " 0.66598162 0.66705653 0.67548872 0.65644667 0.66597048 0.65963798\n",
      "        nan        nan 0.66067948 0.66281259 0.66173768 0.65335004\n",
      " 0.66173768 0.65648009 0.65856307 0.63536062 0.65961014 0.63954887\n",
      " 0.6670064  0.64163743        nan        nan 0.65859092 0.63218045\n",
      " 0.65859092 0.65120022 0.65859092 0.6279198  0.65859092 0.6458758\n",
      " 0.65859092 0.63852409 0.65964912 0.65226399        nan        nan\n",
      " 0.6712782  0.66912838 0.65751044 0.67335561 0.66174325 0.67336118\n",
      " 0.66914508 0.67234754 0.65434141 0.67760512 0.65751044 0.64588137\n",
      "        nan        nan 0.65013645 0.65434141 0.64272348 0.6543247\n",
      " 0.64908382 0.64800891 0.66597605 0.67231969 0.66279588 0.6712782\n",
      " 0.65856307 0.63744361        nan        nan 0.64063492 0.66176552\n",
      " 0.64589808 0.62899471 0.64485659 0.65541632 0.65224728 0.64487329\n",
      " 0.65013645 0.67019215 0.64378725 0.65542189        nan        nan\n",
      " 0.65648566 0.64597605 0.6554386  0.65020329 0.6607296  0.65332219\n",
      " 0.66071846 0.64065163 0.66177109 0.6627736  0.65225842 0.65225842\n",
      "        nan        nan 0.64800891 0.64803119 0.64800891 0.64693957\n",
      " 0.64800891 0.64167641 0.64800891 0.6363687  0.64800891 0.64271791\n",
      " 0.65012531 0.64483988        nan        nan 0.59195767 0.57610693\n",
      " 0.59089947 0.58349206 0.58878864 0.57822891 0.59196324 0.58457811\n",
      " 0.59301587 0.59407407 0.59195767 0.58984127        nan        nan\n",
      " 0.59196324 0.5750543  0.59196324 0.58455583 0.58878864 0.58984684\n",
      " 0.59196324 0.58669451 0.59089947 0.58880535 0.59195767 0.57925926\n",
      "        nan        nan 0.58669451 0.58563631 0.58669451 0.58775272\n",
      " 0.58669451 0.57822891 0.58669451 0.57822891 0.58880535 0.58774715\n",
      " 0.58668894 0.58668894        nan        nan 0.58457811 0.58351991\n",
      " 0.58457811 0.58351991 0.58457811 0.5729379  0.58457811 0.58351991\n",
      " 0.58668894 0.58668894 0.58457254 0.58457811        nan        nan\n",
      " 0.57822334 0.5718797  0.57822334 0.5761125  0.57822334 0.56976887\n",
      " 0.57822334 0.57506544 0.57822334 0.57610693 0.57822334 0.57399053\n",
      "        nan        nan 0.58347536 0.58770259 0.57818992 0.58666667\n",
      " 0.57502089 0.58562517 0.58031746 0.58559176 0.59087719 0.5961682\n",
      " 0.58559176 0.58560847        nan        nan 0.57714843 0.57715957\n",
      " 0.57820106 0.58668894 0.57608466 0.58666667 0.58138123 0.57821777\n",
      " 0.58981899 0.59511    0.58664996 0.58770816        nan        nan\n",
      " 0.57081593 0.57504873 0.57187413 0.57398496 0.57081593 0.57397382\n",
      " 0.57504873 0.58985798 0.58032303 0.59195767 0.58138123 0.58664996\n",
      "        nan        nan 0.582445   0.57398496 0.582445   0.5813868\n",
      " 0.582445   0.57503759 0.582445   0.58773601 0.58455583 0.58242829\n",
      " 0.58455583 0.58030075        nan        nan 0.59618491 0.58664439\n",
      " 0.59618491 0.60569201 0.59618491 0.60253968 0.59618491 0.58137009\n",
      " 0.59618491 0.5982846  0.59618491 0.5929936         nan        nan\n",
      " 0.60147591 0.59936508 0.60784183 0.5972264  0.59831802 0.60570872\n",
      " 0.60149819 0.60467836 0.60570872 0.60886661 0.61206349 0.59936508\n",
      "        nan        nan 0.59620162 0.59725982 0.60359788 0.60041214\n",
      " 0.60043999 0.60041771 0.60149819 0.60148148 0.61523253 0.60994709\n",
      " 0.60571429 0.60042328        nan        nan 0.60152047 0.58879978\n",
      " 0.59728766 0.59303815 0.59411306 0.58988026 0.59728766 0.6077917\n",
      " 0.60044556 0.59937065 0.60785297 0.60785297        nan        nan\n",
      " 0.60256753 0.61836814 0.60256753 0.60888332 0.60256753 0.60150933\n",
      " 0.60256753 0.6015149  0.60467836 0.60570315 0.60467836 0.61415205\n",
      "        nan        nan 0.63214146 0.60675578 0.63214146 0.6374269\n",
      " 0.63214146 0.63213033 0.63214146 0.61730437 0.63214146 0.62684489\n",
      " 0.63214146 0.62576441        nan        nan 0.60675021 0.60675578\n",
      " 0.60147591 0.60356447 0.60676692 0.60890003 0.60781398 0.62262879\n",
      " 0.61416319 0.61310498 0.60887775 0.61096074        nan        nan\n",
      " 0.60149819 0.59302701 0.60148705 0.59831802 0.59938736 0.59621275\n",
      " 0.60468393 0.61944862 0.61098858 0.60781398 0.61311055 0.61097187\n",
      "        nan        nan 0.59621832 0.59409635 0.59516012 0.60674464\n",
      " 0.60045113 0.59516012 0.60256753 0.60046227 0.60255082 0.60043442\n",
      " 0.60466722 0.61097187        nan        nan 0.61630187 0.61102757\n",
      " 0.6141966  0.62687831 0.6141966  0.62896686 0.6141966  0.61630187\n",
      " 0.61736564 0.63104985 0.61736564 0.62895015        nan        nan\n",
      " 0.64271791 0.64903926 0.64271791 0.63639098 0.64271791 0.63532721\n",
      " 0.64271791 0.63216931 0.64271791 0.63952102 0.64483431 0.63743804\n",
      "        nan        nan 0.65119465 0.64901699 0.64379838 0.64588137\n",
      " 0.64804233 0.66276246 0.6607296  0.66700084 0.64908382 0.6511501\n",
      " 0.64485659 0.63533278        nan        nan 0.62267892 0.64905597\n",
      " 0.62796436 0.64692843 0.63641882 0.63324422 0.64700084 0.63536619\n",
      " 0.65331662 0.63215817 0.64802005 0.65008633        nan        nan\n",
      " 0.64485102 0.6522083  0.64273461 0.628978   0.64591479 0.64904483\n",
      " 0.64274018 0.63744918 0.64907268 0.65855194 0.65224172 0.64482317\n",
      "        nan        nan 0.66283486 0.64588137 0.65754386 0.65332219\n",
      " 0.66283486 0.64170426 0.65542746 0.66170426 0.66177109 0.65758842\n",
      " 0.65543303 0.65329435        nan        nan 0.64800891 0.65113896\n",
      " 0.64800891 0.64590365 0.64800891 0.6511501  0.64800891 0.64486772\n",
      " 0.64800891 0.64061821 0.65012531 0.65011417        nan        nan\n",
      " 0.66071846 0.66068505 0.65332219 0.66386522 0.6586132  0.65856864\n",
      " 0.66601504 0.66384294 0.66281259 0.66913952 0.66174882 0.67657477\n",
      "        nan        nan 0.64696742 0.63742133 0.62898914 0.65964355\n",
      " 0.6607296  0.66067391 0.65436369 0.6638875  0.66174882 0.66599276\n",
      " 0.64905597 0.65856864        nan        nan 0.64062935 0.65011974\n",
      " 0.64589808 0.66912838 0.65118908 0.64802562 0.6459315  0.6543971\n",
      " 0.65014759 0.65542746 0.65222501 0.66489557        nan        nan\n",
      " 0.65754386 0.66177666 0.65648566 0.66382623 0.6554386  0.67124478\n",
      " 0.6543804  0.66183793 0.65543303 0.65436369 0.65225842 0.66277917\n",
      "        nan        nan 0.64800891 0.63217488 0.64800891 0.6384851\n",
      " 0.64800891 0.64062935 0.64800891 0.65221387 0.64800891 0.64798106\n",
      " 0.65012531 0.65120022]\n",
      "  warnings.warn(\n"
     ]
    },
    {
     "data": {
      "text/html": [
       "<style>#sk-container-id-5 {color: black;}#sk-container-id-5 pre{padding: 0;}#sk-container-id-5 div.sk-toggleable {background-color: white;}#sk-container-id-5 label.sk-toggleable__label {cursor: pointer;display: block;width: 100%;margin-bottom: 0;padding: 0.3em;box-sizing: border-box;text-align: center;}#sk-container-id-5 label.sk-toggleable__label-arrow:before {content: \"▸\";float: left;margin-right: 0.25em;color: #696969;}#sk-container-id-5 label.sk-toggleable__label-arrow:hover:before {color: black;}#sk-container-id-5 div.sk-estimator:hover label.sk-toggleable__label-arrow:before {color: black;}#sk-container-id-5 div.sk-toggleable__content {max-height: 0;max-width: 0;overflow: hidden;text-align: left;background-color: #f0f8ff;}#sk-container-id-5 div.sk-toggleable__content pre {margin: 0.2em;color: black;border-radius: 0.25em;background-color: #f0f8ff;}#sk-container-id-5 input.sk-toggleable__control:checked~div.sk-toggleable__content {max-height: 200px;max-width: 100%;overflow: auto;}#sk-container-id-5 input.sk-toggleable__control:checked~label.sk-toggleable__label-arrow:before {content: \"▾\";}#sk-container-id-5 div.sk-estimator input.sk-toggleable__control:checked~label.sk-toggleable__label {background-color: #d4ebff;}#sk-container-id-5 div.sk-label input.sk-toggleable__control:checked~label.sk-toggleable__label {background-color: #d4ebff;}#sk-container-id-5 input.sk-hidden--visually {border: 0;clip: rect(1px 1px 1px 1px);clip: rect(1px, 1px, 1px, 1px);height: 1px;margin: -1px;overflow: hidden;padding: 0;position: absolute;width: 1px;}#sk-container-id-5 div.sk-estimator {font-family: monospace;background-color: #f0f8ff;border: 1px dotted black;border-radius: 0.25em;box-sizing: border-box;margin-bottom: 0.5em;}#sk-container-id-5 div.sk-estimator:hover {background-color: #d4ebff;}#sk-container-id-5 div.sk-parallel-item::after {content: \"\";width: 100%;border-bottom: 1px solid gray;flex-grow: 1;}#sk-container-id-5 div.sk-label:hover label.sk-toggleable__label {background-color: #d4ebff;}#sk-container-id-5 div.sk-serial::before {content: \"\";position: absolute;border-left: 1px solid gray;box-sizing: border-box;top: 0;bottom: 0;left: 50%;z-index: 0;}#sk-container-id-5 div.sk-serial {display: flex;flex-direction: column;align-items: center;background-color: white;padding-right: 0.2em;padding-left: 0.2em;position: relative;}#sk-container-id-5 div.sk-item {position: relative;z-index: 1;}#sk-container-id-5 div.sk-parallel {display: flex;align-items: stretch;justify-content: center;background-color: white;position: relative;}#sk-container-id-5 div.sk-item::before, #sk-container-id-5 div.sk-parallel-item::before {content: \"\";position: absolute;border-left: 1px solid gray;box-sizing: border-box;top: 0;bottom: 0;left: 50%;z-index: -1;}#sk-container-id-5 div.sk-parallel-item {display: flex;flex-direction: column;z-index: 1;position: relative;background-color: white;}#sk-container-id-5 div.sk-parallel-item:first-child::after {align-self: flex-end;width: 50%;}#sk-container-id-5 div.sk-parallel-item:last-child::after {align-self: flex-start;width: 50%;}#sk-container-id-5 div.sk-parallel-item:only-child::after {width: 0;}#sk-container-id-5 div.sk-dashed-wrapped {border: 1px dashed gray;margin: 0 0.4em 0.5em 0.4em;box-sizing: border-box;padding-bottom: 0.4em;background-color: white;}#sk-container-id-5 div.sk-label label {font-family: monospace;font-weight: bold;display: inline-block;line-height: 1.2em;}#sk-container-id-5 div.sk-label-container {text-align: center;}#sk-container-id-5 div.sk-container {/* jupyter's `normalize.less` sets `[hidden] { display: none; }` but bootstrap.min.css set `[hidden] { display: none !important; }` so we also need the `!important` here to be able to override the default hidden behavior on the sphinx rendered scikit-learn.org. See: https://github.com/scikit-learn/scikit-learn/issues/21755 */display: inline-block !important;position: relative;}#sk-container-id-5 div.sk-text-repr-fallback {display: none;}</style><div id=\"sk-container-id-5\" class=\"sk-top-container\"><div class=\"sk-text-repr-fallback\"><pre>GridSearchCV(cv=5, estimator=DecisionTreeClassifier(),\n",
       "             param_grid={&#x27;criterion&#x27;: [&#x27;gini&#x27;, &#x27;entropy&#x27;],\n",
       "                         &#x27;max_depth&#x27;: [None, 5, 10, 15, 20, 40, 60],\n",
       "                         &#x27;min_samples_leaf&#x27;: [1, 2, 4, 8, 16],\n",
       "                         &#x27;min_samples_split&#x27;: [1, 2, 5, 10, 20, 50, 70],\n",
       "                         &#x27;splitter&#x27;: [&#x27;best&#x27;, &#x27;random&#x27;]},\n",
       "             scoring=&#x27;accuracy&#x27;)</pre><b>In a Jupyter environment, please rerun this cell to show the HTML representation or trust the notebook. <br />On GitHub, the HTML representation is unable to render, please try loading this page with nbviewer.org.</b></div><div class=\"sk-container\" hidden><div class=\"sk-item sk-dashed-wrapped\"><div class=\"sk-label-container\"><div class=\"sk-label sk-toggleable\"><input class=\"sk-toggleable__control sk-hidden--visually\" id=\"sk-estimator-id-7\" type=\"checkbox\" ><label for=\"sk-estimator-id-7\" class=\"sk-toggleable__label sk-toggleable__label-arrow\">GridSearchCV</label><div class=\"sk-toggleable__content\"><pre>GridSearchCV(cv=5, estimator=DecisionTreeClassifier(),\n",
       "             param_grid={&#x27;criterion&#x27;: [&#x27;gini&#x27;, &#x27;entropy&#x27;],\n",
       "                         &#x27;max_depth&#x27;: [None, 5, 10, 15, 20, 40, 60],\n",
       "                         &#x27;min_samples_leaf&#x27;: [1, 2, 4, 8, 16],\n",
       "                         &#x27;min_samples_split&#x27;: [1, 2, 5, 10, 20, 50, 70],\n",
       "                         &#x27;splitter&#x27;: [&#x27;best&#x27;, &#x27;random&#x27;]},\n",
       "             scoring=&#x27;accuracy&#x27;)</pre></div></div></div><div class=\"sk-parallel\"><div class=\"sk-parallel-item\"><div class=\"sk-item\"><div class=\"sk-label-container\"><div class=\"sk-label sk-toggleable\"><input class=\"sk-toggleable__control sk-hidden--visually\" id=\"sk-estimator-id-8\" type=\"checkbox\" ><label for=\"sk-estimator-id-8\" class=\"sk-toggleable__label sk-toggleable__label-arrow\">estimator: DecisionTreeClassifier</label><div class=\"sk-toggleable__content\"><pre>DecisionTreeClassifier()</pre></div></div></div><div class=\"sk-serial\"><div class=\"sk-item\"><div class=\"sk-estimator sk-toggleable\"><input class=\"sk-toggleable__control sk-hidden--visually\" id=\"sk-estimator-id-9\" type=\"checkbox\" ><label for=\"sk-estimator-id-9\" class=\"sk-toggleable__label sk-toggleable__label-arrow\">DecisionTreeClassifier</label><div class=\"sk-toggleable__content\"><pre>DecisionTreeClassifier()</pre></div></div></div></div></div></div></div></div></div></div>"
      ],
      "text/plain": [
       "GridSearchCV(cv=5, estimator=DecisionTreeClassifier(),\n",
       "             param_grid={'criterion': ['gini', 'entropy'],\n",
       "                         'max_depth': [None, 5, 10, 15, 20, 40, 60],\n",
       "                         'min_samples_leaf': [1, 2, 4, 8, 16],\n",
       "                         'min_samples_split': [1, 2, 5, 10, 20, 50, 70],\n",
       "                         'splitter': ['best', 'random']},\n",
       "             scoring='accuracy')"
      ]
     },
     "execution_count": 46,
     "metadata": {},
     "output_type": "execute_result"
    }
   ],
   "source": [
    "decision_tree = DecisionTreeClassifier()\n",
    "grid_search = GridSearchCV(decision_tree, tree_param_grid, cv=5, scoring='accuracy')\n",
    "grid_search.fit(X_train, y_train)"
   ]
  },
  {
   "cell_type": "code",
   "execution_count": 47,
   "metadata": {
    "colab": {
     "base_uri": "https://localhost:8080/"
    },
    "id": "P4raFZMkRrGR",
    "outputId": "ca22f7e5-7650-40d9-a98b-7b7d9f827720"
   },
   "outputs": [
    {
     "name": "stdout",
     "output_type": "stream",
     "text": [
      "Best Hyperparameters: {'criterion': 'gini', 'max_depth': None, 'min_samples_leaf': 1, 'min_samples_split': 20, 'splitter': 'best'}\n",
      "Classification Report:\n",
      "              precision    recall  f1-score   support\n",
      "\n",
      "           0       0.61      0.71      0.66       114\n",
      "           1       0.68      0.58      0.63       123\n",
      "\n",
      "    accuracy                           0.64       237\n",
      "   macro avg       0.65      0.64      0.64       237\n",
      "weighted avg       0.65      0.64      0.64       237\n",
      "\n"
     ]
    }
   ],
   "source": [
    "best_params = grid_search.best_params_\n",
    "print(\"Best Hyperparameters:\", best_params)\n",
    "tree_best_model = grid_search.best_estimator_\n",
    "y_pred = tree_best_model.predict(X_test)\n",
    "classification_rep = classification_report(y_test, y_pred)\n",
    "print(\"Classification Report:\")\n",
    "print(classification_rep)"
   ]
  },
  {
   "cell_type": "code",
   "execution_count": 48,
   "metadata": {
    "id": "up2L8BymR5ug"
   },
   "outputs": [],
   "source": [
    "rf_param_grid = {\n",
    "    'n_estimators': [100, 200, 300],\n",
    "    'max_depth': [None, 10, 20, 30],\n",
    "    'min_samples_split': [2, 5, 10],\n",
    "    'max_features': ['sqrt', 'log2'],\n",
    "    'min_samples_leaf': [1, 2, 4]\n",
    "}"
   ]
  },
  {
   "cell_type": "code",
   "execution_count": 49,
   "metadata": {
    "colab": {
     "base_uri": "https://localhost:8080/",
     "height": 116
    },
    "id": "bApayZk0diwO",
    "outputId": "e2dca656-8eee-477f-b6cd-800dac7a3d5b"
   },
   "outputs": [
    {
     "data": {
      "text/html": [
       "<style>#sk-container-id-6 {color: black;}#sk-container-id-6 pre{padding: 0;}#sk-container-id-6 div.sk-toggleable {background-color: white;}#sk-container-id-6 label.sk-toggleable__label {cursor: pointer;display: block;width: 100%;margin-bottom: 0;padding: 0.3em;box-sizing: border-box;text-align: center;}#sk-container-id-6 label.sk-toggleable__label-arrow:before {content: \"▸\";float: left;margin-right: 0.25em;color: #696969;}#sk-container-id-6 label.sk-toggleable__label-arrow:hover:before {color: black;}#sk-container-id-6 div.sk-estimator:hover label.sk-toggleable__label-arrow:before {color: black;}#sk-container-id-6 div.sk-toggleable__content {max-height: 0;max-width: 0;overflow: hidden;text-align: left;background-color: #f0f8ff;}#sk-container-id-6 div.sk-toggleable__content pre {margin: 0.2em;color: black;border-radius: 0.25em;background-color: #f0f8ff;}#sk-container-id-6 input.sk-toggleable__control:checked~div.sk-toggleable__content {max-height: 200px;max-width: 100%;overflow: auto;}#sk-container-id-6 input.sk-toggleable__control:checked~label.sk-toggleable__label-arrow:before {content: \"▾\";}#sk-container-id-6 div.sk-estimator input.sk-toggleable__control:checked~label.sk-toggleable__label {background-color: #d4ebff;}#sk-container-id-6 div.sk-label input.sk-toggleable__control:checked~label.sk-toggleable__label {background-color: #d4ebff;}#sk-container-id-6 input.sk-hidden--visually {border: 0;clip: rect(1px 1px 1px 1px);clip: rect(1px, 1px, 1px, 1px);height: 1px;margin: -1px;overflow: hidden;padding: 0;position: absolute;width: 1px;}#sk-container-id-6 div.sk-estimator {font-family: monospace;background-color: #f0f8ff;border: 1px dotted black;border-radius: 0.25em;box-sizing: border-box;margin-bottom: 0.5em;}#sk-container-id-6 div.sk-estimator:hover {background-color: #d4ebff;}#sk-container-id-6 div.sk-parallel-item::after {content: \"\";width: 100%;border-bottom: 1px solid gray;flex-grow: 1;}#sk-container-id-6 div.sk-label:hover label.sk-toggleable__label {background-color: #d4ebff;}#sk-container-id-6 div.sk-serial::before {content: \"\";position: absolute;border-left: 1px solid gray;box-sizing: border-box;top: 0;bottom: 0;left: 50%;z-index: 0;}#sk-container-id-6 div.sk-serial {display: flex;flex-direction: column;align-items: center;background-color: white;padding-right: 0.2em;padding-left: 0.2em;position: relative;}#sk-container-id-6 div.sk-item {position: relative;z-index: 1;}#sk-container-id-6 div.sk-parallel {display: flex;align-items: stretch;justify-content: center;background-color: white;position: relative;}#sk-container-id-6 div.sk-item::before, #sk-container-id-6 div.sk-parallel-item::before {content: \"\";position: absolute;border-left: 1px solid gray;box-sizing: border-box;top: 0;bottom: 0;left: 50%;z-index: -1;}#sk-container-id-6 div.sk-parallel-item {display: flex;flex-direction: column;z-index: 1;position: relative;background-color: white;}#sk-container-id-6 div.sk-parallel-item:first-child::after {align-self: flex-end;width: 50%;}#sk-container-id-6 div.sk-parallel-item:last-child::after {align-self: flex-start;width: 50%;}#sk-container-id-6 div.sk-parallel-item:only-child::after {width: 0;}#sk-container-id-6 div.sk-dashed-wrapped {border: 1px dashed gray;margin: 0 0.4em 0.5em 0.4em;box-sizing: border-box;padding-bottom: 0.4em;background-color: white;}#sk-container-id-6 div.sk-label label {font-family: monospace;font-weight: bold;display: inline-block;line-height: 1.2em;}#sk-container-id-6 div.sk-label-container {text-align: center;}#sk-container-id-6 div.sk-container {/* jupyter's `normalize.less` sets `[hidden] { display: none; }` but bootstrap.min.css set `[hidden] { display: none !important; }` so we also need the `!important` here to be able to override the default hidden behavior on the sphinx rendered scikit-learn.org. See: https://github.com/scikit-learn/scikit-learn/issues/21755 */display: inline-block !important;position: relative;}#sk-container-id-6 div.sk-text-repr-fallback {display: none;}</style><div id=\"sk-container-id-6\" class=\"sk-top-container\"><div class=\"sk-text-repr-fallback\"><pre>GridSearchCV(cv=5, estimator=RandomForestClassifier(),\n",
       "             param_grid={&#x27;max_depth&#x27;: [None, 10, 20, 30],\n",
       "                         &#x27;max_features&#x27;: [&#x27;sqrt&#x27;, &#x27;log2&#x27;],\n",
       "                         &#x27;min_samples_leaf&#x27;: [1, 2, 4],\n",
       "                         &#x27;min_samples_split&#x27;: [2, 5, 10],\n",
       "                         &#x27;n_estimators&#x27;: [100, 200, 300]},\n",
       "             scoring=&#x27;accuracy&#x27;)</pre><b>In a Jupyter environment, please rerun this cell to show the HTML representation or trust the notebook. <br />On GitHub, the HTML representation is unable to render, please try loading this page with nbviewer.org.</b></div><div class=\"sk-container\" hidden><div class=\"sk-item sk-dashed-wrapped\"><div class=\"sk-label-container\"><div class=\"sk-label sk-toggleable\"><input class=\"sk-toggleable__control sk-hidden--visually\" id=\"sk-estimator-id-10\" type=\"checkbox\" ><label for=\"sk-estimator-id-10\" class=\"sk-toggleable__label sk-toggleable__label-arrow\">GridSearchCV</label><div class=\"sk-toggleable__content\"><pre>GridSearchCV(cv=5, estimator=RandomForestClassifier(),\n",
       "             param_grid={&#x27;max_depth&#x27;: [None, 10, 20, 30],\n",
       "                         &#x27;max_features&#x27;: [&#x27;sqrt&#x27;, &#x27;log2&#x27;],\n",
       "                         &#x27;min_samples_leaf&#x27;: [1, 2, 4],\n",
       "                         &#x27;min_samples_split&#x27;: [2, 5, 10],\n",
       "                         &#x27;n_estimators&#x27;: [100, 200, 300]},\n",
       "             scoring=&#x27;accuracy&#x27;)</pre></div></div></div><div class=\"sk-parallel\"><div class=\"sk-parallel-item\"><div class=\"sk-item\"><div class=\"sk-label-container\"><div class=\"sk-label sk-toggleable\"><input class=\"sk-toggleable__control sk-hidden--visually\" id=\"sk-estimator-id-11\" type=\"checkbox\" ><label for=\"sk-estimator-id-11\" class=\"sk-toggleable__label sk-toggleable__label-arrow\">estimator: RandomForestClassifier</label><div class=\"sk-toggleable__content\"><pre>RandomForestClassifier()</pre></div></div></div><div class=\"sk-serial\"><div class=\"sk-item\"><div class=\"sk-estimator sk-toggleable\"><input class=\"sk-toggleable__control sk-hidden--visually\" id=\"sk-estimator-id-12\" type=\"checkbox\" ><label for=\"sk-estimator-id-12\" class=\"sk-toggleable__label sk-toggleable__label-arrow\">RandomForestClassifier</label><div class=\"sk-toggleable__content\"><pre>RandomForestClassifier()</pre></div></div></div></div></div></div></div></div></div></div>"
      ],
      "text/plain": [
       "GridSearchCV(cv=5, estimator=RandomForestClassifier(),\n",
       "             param_grid={'max_depth': [None, 10, 20, 30],\n",
       "                         'max_features': ['sqrt', 'log2'],\n",
       "                         'min_samples_leaf': [1, 2, 4],\n",
       "                         'min_samples_split': [2, 5, 10],\n",
       "                         'n_estimators': [100, 200, 300]},\n",
       "             scoring='accuracy')"
      ]
     },
     "execution_count": 49,
     "metadata": {},
     "output_type": "execute_result"
    }
   ],
   "source": [
    "random_forest = RandomForestClassifier()\n",
    "grid_search = GridSearchCV(random_forest, rf_param_grid, cv=5, scoring='accuracy')\n",
    "grid_search.fit(X_train, y_train)"
   ]
  },
  {
   "cell_type": "code",
   "execution_count": 50,
   "metadata": {
    "colab": {
     "base_uri": "https://localhost:8080/"
    },
    "id": "JkjXE7cFddWf",
    "outputId": "4a5ad7af-76b8-4925-8746-0d814ce21848"
   },
   "outputs": [
    {
     "name": "stdout",
     "output_type": "stream",
     "text": [
      "Best Hyperparameters: {'max_depth': None, 'max_features': 'sqrt', 'min_samples_leaf': 1, 'min_samples_split': 5, 'n_estimators': 200}\n",
      "Classification Report:\n",
      "              precision    recall  f1-score   support\n",
      "\n",
      "           0       0.65      0.76      0.70       114\n",
      "           1       0.74      0.63      0.68       123\n",
      "\n",
      "    accuracy                           0.69       237\n",
      "   macro avg       0.70      0.69      0.69       237\n",
      "weighted avg       0.70      0.69      0.69       237\n",
      "\n"
     ]
    }
   ],
   "source": [
    "best_params = grid_search.best_params_\n",
    "print(\"Best Hyperparameters:\", best_params)\n",
    "rf_best_model = grid_search.best_estimator_\n",
    "y_pred = rf_best_model.predict(X_test)\n",
    "classification_rep = classification_report(y_test, y_pred)\n",
    "print(\"Classification Report:\")\n",
    "print(classification_rep)"
   ]
  },
  {
   "cell_type": "code",
   "execution_count": 51,
   "metadata": {
    "colab": {
     "base_uri": "https://localhost:8080/"
    },
    "id": "X20XKvg7dvUV",
    "outputId": "51a311aa-fd72-4e9b-9589-638d758c26ef"
   },
   "outputs": [
    {
     "name": "stderr",
     "output_type": "stream",
     "text": [
      "c:\\Users\\munga\\Documents\\Personal_Projects\\Gender Classification\\venv\\lib\\site-packages\\sklearn\\base.py:465: UserWarning: X does not have valid feature names, but LogisticRegression was fitted with feature names\n",
      "  warnings.warn(\n"
     ]
    }
   ],
   "source": [
    "predicted_genders_log_cv = predict_gender(input_arr,log_best_model,vectorizer)"
   ]
  },
  {
   "cell_type": "code",
   "execution_count": 52,
   "metadata": {
    "colab": {
     "base_uri": "https://localhost:8080/"
    },
    "id": "b1dE1md6zlM4",
    "outputId": "a6539dff-6aea-408b-f6e3-89cbaf2d2b2e"
   },
   "outputs": [
    {
     "name": "stderr",
     "output_type": "stream",
     "text": [
      "c:\\Users\\munga\\Documents\\Personal_Projects\\Gender Classification\\venv\\lib\\site-packages\\sklearn\\base.py:465: UserWarning: X does not have valid feature names, but DecisionTreeClassifier was fitted with feature names\n",
      "  warnings.warn(\n"
     ]
    }
   ],
   "source": [
    "predicted_genders_tree_cv = predict_gender(input_arr,tree_best_model,vectorizer)"
   ]
  },
  {
   "cell_type": "code",
   "execution_count": 53,
   "metadata": {
    "colab": {
     "base_uri": "https://localhost:8080/"
    },
    "id": "zcR96vLYzk88",
    "outputId": "242e43fc-af98-42d7-9a46-c33598fab12d"
   },
   "outputs": [
    {
     "name": "stderr",
     "output_type": "stream",
     "text": [
      "c:\\Users\\munga\\Documents\\Personal_Projects\\Gender Classification\\venv\\lib\\site-packages\\sklearn\\base.py:465: UserWarning: X does not have valid feature names, but RandomForestClassifier was fitted with feature names\n",
      "  warnings.warn(\n"
     ]
    }
   ],
   "source": [
    "predicted_genders_rf_cv = predict_gender(input_arr,rf_best_model,vectorizer)"
   ]
  },
  {
   "cell_type": "code",
   "execution_count": 54,
   "metadata": {
    "colab": {
     "base_uri": "https://localhost:8080/"
    },
    "id": "naXgWRPazzAp",
    "outputId": "a208d4a6-64a7-4ef3-c747-c82e23f38f0d"
   },
   "outputs": [
    {
     "name": "stdout",
     "output_type": "stream",
     "text": [
      "Predicted gender for 'Sudeep': Male\n",
      "Predicted gender for 'Navya': Female\n",
      "Predicted gender for 'Nikhil': Male\n",
      "Predicted gender for 'Aslam': Male\n",
      "Predicted gender for 'Satya': Female\n",
      "Predicted gender for 'Alay': Male\n",
      "Predicted gender for 'Saptarshi': Female\n"
     ]
    }
   ],
   "source": [
    "for name, gender in zip(input_arr, predicted_genders_log_cv):\n",
    "    print(f\"Predicted gender for '{name}': {gender}\")"
   ]
  },
  {
   "cell_type": "code",
   "execution_count": 55,
   "metadata": {
    "colab": {
     "base_uri": "https://localhost:8080/"
    },
    "id": "k_r0KNvwz21d",
    "outputId": "336cef4b-f7f9-4c23-ed26-137f308e4871"
   },
   "outputs": [
    {
     "name": "stdout",
     "output_type": "stream",
     "text": [
      "Predicted gender for 'Sudeep': Male\n",
      "Predicted gender for 'Navya': Female\n",
      "Predicted gender for 'Nikhil': Male\n",
      "Predicted gender for 'Aslam': Female\n",
      "Predicted gender for 'Satya': Female\n",
      "Predicted gender for 'Alay': Male\n",
      "Predicted gender for 'Saptarshi': Male\n"
     ]
    }
   ],
   "source": [
    "for name, gender in zip(input_arr, predicted_genders_tree_cv):\n",
    "    print(f\"Predicted gender for '{name}': {gender}\")"
   ]
  },
  {
   "cell_type": "code",
   "execution_count": 56,
   "metadata": {
    "colab": {
     "base_uri": "https://localhost:8080/"
    },
    "id": "cCE38vCXz4uo",
    "outputId": "b7b0ff94-27ee-4acd-fae5-4c92a412e257"
   },
   "outputs": [
    {
     "name": "stdout",
     "output_type": "stream",
     "text": [
      "Predicted gender for 'Sudeep': Male\n",
      "Predicted gender for 'Navya': Female\n",
      "Predicted gender for 'Nikhil': Male\n",
      "Predicted gender for 'Aslam': Female\n",
      "Predicted gender for 'Satya': Female\n",
      "Predicted gender for 'Alay': Female\n",
      "Predicted gender for 'Saptarshi': Male\n"
     ]
    }
   ],
   "source": [
    "for name, gender in zip(input_arr, predicted_genders_rf_cv):\n",
    "    print(f\"Predicted gender for '{name}': {gender}\")"
   ]
  },
  {
   "cell_type": "code",
   "execution_count": null,
   "metadata": {
    "id": "yMyWmCq4z7Xs"
   },
   "outputs": [],
   "source": []
  }
 ],
 "metadata": {
  "colab": {
   "provenance": []
  },
  "kernelspec": {
   "display_name": "Python 3",
   "language": "python",
   "name": "python3"
  },
  "language_info": {
   "codemirror_mode": {
    "name": "ipython",
    "version": 3
   },
   "file_extension": ".py",
   "mimetype": "text/x-python",
   "name": "python",
   "nbconvert_exporter": "python",
   "pygments_lexer": "ipython3",
   "version": "3.8.10"
  }
 },
 "nbformat": 4,
 "nbformat_minor": 1
}
