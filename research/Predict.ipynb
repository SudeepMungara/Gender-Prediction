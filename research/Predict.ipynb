{
 "cells": [
  {
   "cell_type": "code",
   "execution_count": 20,
   "metadata": {},
   "outputs": [],
   "source": [
    "import os\n",
    "import re\n",
    "import pickle\n",
    "import nltk\n",
    "from nltk.util import ngrams\n",
    "from sklearn.feature_extraction.text import CountVectorizer"
   ]
  },
  {
   "cell_type": "code",
   "execution_count": 19,
   "metadata": {},
   "outputs": [],
   "source": [
    "gender_classifier_model = pickle.load(open('/pickle/gender_classification_model.pkl','rb'))\n",
    "vector = pickle.load(open('/pickle/train_data_vector.pkl','rb'))"
   ]
  },
  {
   "cell_type": "code",
   "execution_count": 26,
   "metadata": {},
   "outputs": [],
   "source": [
    "\n",
    "gender = []\n",
    "input_name = ['Sudeep','Nikhil']\n",
    "regex = re.compile('[^a-zA-Z]')\n",
    "input_names = [name.lower() for name in input_name]\n",
    "input_names = [regex.sub('',name) for name in input_names]\n",
    "input_features = vector.transform(input_names)\n",
    "predicted_gender = gender_classifier_model.predict(input_features)\n",
    "for i in range(0,len(predicted_gender)):\n",
    "    if predicted_gender[i] == 0:\n",
    "        gender.append('Female')\n",
    "    elif predicted_gender[i] == 1:\n",
    "        gender.append('Male')"
   ]
  },
  {
   "cell_type": "code",
   "execution_count": 27,
   "metadata": {},
   "outputs": [
    {
     "data": {
      "text/plain": [
       "['Male', 'Male']"
      ]
     },
     "execution_count": 27,
     "metadata": {},
     "output_type": "execute_result"
    }
   ],
   "source": [
    "gender"
   ]
  },
  {
   "cell_type": "code",
   "execution_count": null,
   "metadata": {},
   "outputs": [],
   "source": []
  }
 ],
 "metadata": {
  "kernelspec": {
   "display_name": "venv",
   "language": "python",
   "name": "python3"
  },
  "language_info": {
   "codemirror_mode": {
    "name": "ipython",
    "version": 3
   },
   "file_extension": ".py",
   "mimetype": "text/x-python",
   "name": "python",
   "nbconvert_exporter": "python",
   "pygments_lexer": "ipython3",
   "version": "3.8.10"
  },
  "orig_nbformat": 4
 },
 "nbformat": 4,
 "nbformat_minor": 2
}
